{
 "cells": [
  {
   "cell_type": "code",
   "execution_count": 1,
   "id": "721ac629",
   "metadata": {},
   "outputs": [
    {
     "name": "stdout",
     "output_type": "stream",
     "text": [
      "Collecting medmnist\n",
      "  Downloading medmnist-2.2.2-py3-none-any.whl (21 kB)\n",
      "Requirement already satisfied: Pillow in c:\\users\\mateu\\anaconda3\\envs\\mmelab\\lib\\site-packages (from medmnist) (9.4.0)\n",
      "Collecting torchvision\n",
      "  Downloading torchvision-0.14.1-cp37-cp37m-win_amd64.whl (1.1 MB)\n",
      "     ---------------------------------------- 1.1/1.1 MB 6.3 MB/s eta 0:00:00\n",
      "Collecting scikit-image\n",
      "  Downloading scikit_image-0.19.3-cp37-cp37m-win_amd64.whl (12.1 MB)\n",
      "     --------------------------------------- 12.1/12.1 MB 10.7 MB/s eta 0:00:00\n",
      "Collecting torch\n",
      "  Downloading torch-1.13.1-cp37-cp37m-win_amd64.whl (162.6 MB)\n",
      "     -------------------------------------- 162.6/162.6 MB 2.5 MB/s eta 0:00:00\n",
      "Collecting fire\n",
      "  Downloading fire-0.5.0.tar.gz (88 kB)\n",
      "     ---------------------------------------- 88.3/88.3 kB 4.9 MB/s eta 0:00:00\n",
      "  Preparing metadata (setup.py): started\n",
      "  Preparing metadata (setup.py): finished with status 'done'\n",
      "Requirement already satisfied: tqdm in c:\\users\\mateu\\anaconda3\\envs\\mmelab\\lib\\site-packages (from medmnist) (4.64.1)\n",
      "Requirement already satisfied: scikit-learn in c:\\users\\mateu\\anaconda3\\envs\\mmelab\\lib\\site-packages (from medmnist) (1.0.2)\n",
      "Requirement already satisfied: pandas in c:\\users\\mateu\\anaconda3\\envs\\mmelab\\lib\\site-packages (from medmnist) (1.3.5)\n",
      "Requirement already satisfied: numpy in c:\\users\\mateu\\anaconda3\\envs\\mmelab\\lib\\site-packages (from medmnist) (1.21.6)\n",
      "Requirement already satisfied: six in c:\\users\\mateu\\anaconda3\\envs\\mmelab\\lib\\site-packages (from fire->medmnist) (1.16.0)\n",
      "Requirement already satisfied: termcolor in c:\\users\\mateu\\anaconda3\\envs\\mmelab\\lib\\site-packages (from fire->medmnist) (2.2.0)\n",
      "Requirement already satisfied: pytz>=2017.3 in c:\\users\\mateu\\anaconda3\\envs\\mmelab\\lib\\site-packages (from pandas->medmnist) (2022.7)\n",
      "Requirement already satisfied: python-dateutil>=2.7.3 in c:\\users\\mateu\\anaconda3\\envs\\mmelab\\lib\\site-packages (from pandas->medmnist) (2.8.2)\n",
      "Requirement already satisfied: scipy>=1.4.1 in c:\\users\\mateu\\anaconda3\\envs\\mmelab\\lib\\site-packages (from scikit-image->medmnist) (1.7.3)\n",
      "Requirement already satisfied: packaging>=20.0 in c:\\users\\mateu\\anaconda3\\envs\\mmelab\\lib\\site-packages (from scikit-image->medmnist) (22.0)\n",
      "Collecting PyWavelets>=1.1.1\n",
      "  Downloading PyWavelets-1.3.0-cp37-cp37m-win_amd64.whl (4.2 MB)\n",
      "     ---------------------------------------- 4.2/4.2 MB 14.7 MB/s eta 0:00:00\n",
      "Collecting networkx>=2.2\n",
      "  Downloading networkx-2.6.3-py3-none-any.whl (1.9 MB)\n",
      "     ---------------------------------------- 1.9/1.9 MB 13.6 MB/s eta 0:00:00\n",
      "Collecting tifffile>=2019.7.26\n",
      "  Downloading tifffile-2021.11.2-py3-none-any.whl (178 kB)\n",
      "     -------------------------------------- 178.9/178.9 kB 5.4 MB/s eta 0:00:00\n",
      "Collecting imageio>=2.4.1\n",
      "  Downloading imageio-2.31.0-py3-none-any.whl (313 kB)\n",
      "     ------------------------------------- 313.2/313.2 kB 18.9 MB/s eta 0:00:00\n",
      "Requirement already satisfied: joblib>=0.11 in c:\\users\\mateu\\anaconda3\\envs\\mmelab\\lib\\site-packages (from scikit-learn->medmnist) (1.1.1)\n",
      "Requirement already satisfied: threadpoolctl>=2.0.0 in c:\\users\\mateu\\anaconda3\\envs\\mmelab\\lib\\site-packages (from scikit-learn->medmnist) (2.2.0)\n",
      "Requirement already satisfied: typing-extensions in c:\\users\\mateu\\anaconda3\\envs\\mmelab\\lib\\site-packages (from torch->medmnist) (4.4.0)\n",
      "Requirement already satisfied: requests in c:\\users\\mateu\\anaconda3\\envs\\mmelab\\lib\\site-packages (from torchvision->medmnist) (2.28.2)\n",
      "Requirement already satisfied: colorama in c:\\users\\mateu\\anaconda3\\envs\\mmelab\\lib\\site-packages (from tqdm->medmnist) (0.4.6)\n",
      "Requirement already satisfied: charset-normalizer<4,>=2 in c:\\users\\mateu\\anaconda3\\envs\\mmelab\\lib\\site-packages (from requests->torchvision->medmnist) (3.1.0)\n",
      "Requirement already satisfied: urllib3<1.27,>=1.21.1 in c:\\users\\mateu\\anaconda3\\envs\\mmelab\\lib\\site-packages (from requests->torchvision->medmnist) (1.26.15)\n",
      "Requirement already satisfied: certifi>=2017.4.17 in c:\\users\\mateu\\anaconda3\\envs\\mmelab\\lib\\site-packages (from requests->torchvision->medmnist) (2022.12.7)\n",
      "Requirement already satisfied: idna<4,>=2.5 in c:\\users\\mateu\\anaconda3\\envs\\mmelab\\lib\\site-packages (from requests->torchvision->medmnist) (3.4)\n",
      "Building wheels for collected packages: fire\n",
      "  Building wheel for fire (setup.py): started\n",
      "  Building wheel for fire (setup.py): finished with status 'done'\n",
      "  Created wheel for fire: filename=fire-0.5.0-py2.py3-none-any.whl size=116947 sha256=f8a7f8d754a2206831c0c525a0dad6cf08ccee337524ba170465fbbe43dda07c\n",
      "  Stored in directory: c:\\users\\mateu\\appdata\\local\\pip\\cache\\wheels\\20\\e8\\7b\\003fc14f02f262dd4614aec55e41147c8012e3dad98c936b76\n",
      "Successfully built fire\n",
      "Installing collected packages: torch, tifffile, PyWavelets, networkx, imageio, fire, torchvision, scikit-image, medmnist\n",
      "Successfully installed PyWavelets-1.3.0 fire-0.5.0 imageio-2.31.0 medmnist-2.2.2 networkx-2.6.3 scikit-image-0.19.3 tifffile-2021.11.2 torch-1.13.1 torchvision-0.14.1\n"
     ]
    }
   ],
   "source": [
    "!pip install medmnist"
   ]
  },
  {
   "cell_type": "code",
   "execution_count": 133,
   "id": "40f44055",
   "metadata": {},
   "outputs": [],
   "source": [
    "import matplotlib.pyplot as plt\n",
    "from medmnist import DermaMNIST\n",
    "import numpy as np\n",
    "from sklearn import svm\n",
    "from sklearn import metrics\n",
    "from sklearn.ensemble import RandomForestClassifier"
   ]
  },
  {
   "cell_type": "code",
   "execution_count": 134,
   "id": "43627a73",
   "metadata": {},
   "outputs": [],
   "source": [
    "dataset=np.load(\"C:/Users/mateu/.medmnist/dermamnist.npz\")"
   ]
  },
  {
   "cell_type": "code",
   "execution_count": 135,
   "id": "c5954e0b",
   "metadata": {},
   "outputs": [],
   "source": [
    "def rgb2gray(rgb):\n",
    "    return np.dot(rgb[...,:3], [0.299, 0.587, 0.144])"
   ]
  },
  {
   "cell_type": "code",
   "execution_count": 136,
   "id": "e4b5acb9",
   "metadata": {},
   "outputs": [
    {
     "name": "stdout",
     "output_type": "stream",
     "text": [
      "['train_images', 'val_images', 'test_images', 'train_labels', 'val_labels', 'test_labels']\n",
      "[158 111 117 ... 173 145 142]\n"
     ]
    }
   ],
   "source": [
    "print(dataset.files)\n",
    "train_images=dataset[\"train_images\"]\n",
    "val_images=dataset[\"val_images\"]\n",
    "test_images=dataset[\"test_images\"]\n",
    "train_labels=dataset[\"train_labels\"]\n",
    "val_labels=dataset[\"val_labels\"]\n",
    "test_labels=dataset[\"test_labels\"]\n",
    "print(np.reshape(train_images[0],-1))\n",
    "   \n",
    "gray_train = rgb2gray(train_images)\n",
    "gray_val = rgb2gray(val_images)\n",
    "gray_test = rgb2gray(test_images)\n",
    "#plt.imshow(gray_arr)\n",
    "#gray_arr.shape"
   ]
  },
  {
   "cell_type": "code",
   "execution_count": 137,
   "id": "e0b47b3f",
   "metadata": {},
   "outputs": [
    {
     "name": "stdout",
     "output_type": "stream",
     "text": [
      "[0 1 2 3 4 5 6]\n",
      "[0 1 2 3 4 5 6]\n",
      "[0 1 2 3 4 5 6]\n"
     ]
    }
   ],
   "source": [
    "print(np.unique(val_labels))\n",
    "print(np.unique(test_labels))\n",
    "print(np.unique(train_labels))      "
   ]
  },
  {
   "cell_type": "code",
   "execution_count": 138,
   "id": "c3b3c580",
   "metadata": {},
   "outputs": [
    {
     "data": {
      "text/plain": [
       "<matplotlib.image.AxesImage at 0x14714703708>"
      ]
     },
     "execution_count": 138,
     "metadata": {},
     "output_type": "execute_result"
    },
    {
     "data": {
      "image/png": "[encoded data removed]",
      "text/plain": [
       "<Figure size 640x480 with 1 Axes>"
      ]
     },
     "metadata": {},
     "output_type": "display_data"
    }
   ],
   "source": [
    "plt.imshow(gray_train[700])"
   ]
  },
  {
   "cell_type": "code",
   "execution_count": 139,
   "id": "162bc742",
   "metadata": {},
   "outputs": [
    {
     "data": {
      "text/plain": [
       "(2005, 28, 28)"
      ]
     },
     "execution_count": 139,
     "metadata": {},
     "output_type": "execute_result"
    }
   ],
   "source": [
    "gray_test.shape"
   ]
  },
  {
   "cell_type": "code",
   "execution_count": 158,
   "id": "d3e2fa0b",
   "metadata": {},
   "outputs": [
    {
     "data": {
      "text/plain": [
       "(2005, 2352)"
      ]
     },
     "execution_count": 158,
     "metadata": {},
     "output_type": "execute_result"
    }
   ],
   "source": [
    "reshaped_train=train_images.reshape(7007,-1)\n",
    "reshaped_val=val_images.reshape(1003,-1)\n",
    "reshaped_test=test_images.reshape(2005,-1)\n",
    "reshaped_test.shape"
   ]
  },
  {
   "cell_type": "code",
   "execution_count": 190,
   "id": "e96fb3e1",
   "metadata": {},
   "outputs": [
    {
     "name": "stderr",
     "output_type": "stream",
     "text": [
      "C:\\Users\\mateu\\anaconda3\\envs\\mmelab\\lib\\site-packages\\sklearn\\utils\\validation.py:993: DataConversionWarning: A column-vector y was passed when a 1d array was expected. Please change the shape of y to (n_samples, ), for example using ravel().\n",
      "  y = column_or_1d(y, warn=True)\n"
     ]
    },
    {
     "data": {
      "text/plain": [
       "SVC(C=11)"
      ]
     },
     "execution_count": 190,
     "metadata": {},
     "output_type": "execute_result"
    }
   ],
   "source": [
    "clf = svm.SVC(kernel=\"rbf\", C=11)\n",
    "clf.fit(reshaped_train, train_labels)"
   ]
  },
  {
   "cell_type": "code",
   "execution_count": 191,
   "id": "44d87129",
   "metadata": {},
   "outputs": [],
   "source": [
    "pred=clf.predict(reshaped_test)"
   ]
  },
  {
   "cell_type": "code",
   "execution_count": 192,
   "id": "486baee3",
   "metadata": {},
   "outputs": [
    {
     "data": {
      "text/plain": [
       "array([[5],\n",
       "       [3],\n",
       "       [4],\n",
       "       ...,\n",
       "       [5],\n",
       "       [5],\n",
       "       [5]], dtype=uint8)"
      ]
     },
     "execution_count": 192,
     "metadata": {},
     "output_type": "execute_result"
    }
   ],
   "source": [
    "test_labels"
   ]
  },
  {
   "cell_type": "code",
   "execution_count": 193,
   "id": "63c59b78",
   "metadata": {},
   "outputs": [
    {
     "data": {
      "text/plain": [
       "0.7315365354600791"
      ]
     },
     "execution_count": 193,
     "metadata": {},
     "output_type": "execute_result"
    }
   ],
   "source": [
    "metrics.fbeta_score(test_labels,pred,beta=1,average=\"weighted\")"
   ]
  },
  {
   "cell_type": "code",
   "execution_count": 194,
   "id": "defd28ac",
   "metadata": {},
   "outputs": [
    {
     "data": {
      "text/plain": [
       "array([[  23,   16,   10,    1,    4,   11,    1],\n",
       "       [  12,   51,    8,    0,    3,   29,    0],\n",
       "       [   5,    9,   98,    0,   20,   88,    0],\n",
       "       [   2,    9,    2,    3,    0,    7,    0],\n",
       "       [   5,    6,   29,    1,   62,  120,    0],\n",
       "       [   5,   16,   22,    0,   34, 1264,    0],\n",
       "       [   2,    3,    4,    0,    2,    7,   11]], dtype=int64)"
      ]
     },
     "execution_count": 194,
     "metadata": {},
     "output_type": "execute_result"
    }
   ],
   "source": [
    "metrics.confusion_matrix(test_labels,pred)"
   ]
  },
  {
   "cell_type": "code",
   "execution_count": null,
   "id": "b89c9369",
   "metadata": {},
   "outputs": [],
   "source": [
    "#0.6833340970259782 dla rbf c=9 gray\n",
    "# array([[  12,   11,   14,    0,    3,   26,    0],\n",
    "#        [   6,   17,    7,    0,    3,   70,    0],\n",
    "#        [  10,    3,   56,    0,   14,  137,    0],\n",
    "#        [   2,    2,    3,    0,    0,   16,    0],\n",
    "#        [   3,    1,   20,    0,   56,  143,    0],\n",
    "#        [   4,   13,   16,    0,   30, 1278,    0],\n",
    "#        [   0,    0,    2,    0,    0,   27,    0]], dtype=int64)\n",
    "\n",
    "# 0.7394007785408839 dla rbf c=9 color\n",
    "# array([[  23,   16,   10,    1,    4,   11,    1],\n",
    "#        [  12,   51,    8,    0,    3,   29,    0],\n",
    "#        [   6,    7,   95,    0,   19,   93,    0],\n",
    "#        [   2,    8,    2,    3,    0,    8,    0],\n",
    "#        [   2,    7,   27,    1,   59,  127,    0],\n",
    "#        [   5,   15,   22,    0,   34, 1265,    0],\n",
    "#        [   2,    4,    3,    0,    1,    9,   10]], dtype=int64)"
   ]
  },
  {
   "cell_type": "code",
   "execution_count": 173,
   "id": "625d9834",
   "metadata": {},
   "outputs": [
    {
     "name": "stderr",
     "output_type": "stream",
     "text": [
      "C:\\Users\\mateu\\anaconda3\\envs\\mmelab\\lib\\site-packages\\ipykernel_launcher.py:2: DataConversionWarning: A column-vector y was passed when a 1d array was expected. Please change the shape of y to (n_samples,), for example using ravel().\n",
      "  \n"
     ]
    }
   ],
   "source": [
    "rf = RandomForestClassifier(n_estimators = 1000, random_state = 5)\n",
    "rf.fit(reshaped_train, train_labels);"
   ]
  },
  {
   "cell_type": "code",
   "execution_count": 174,
   "id": "7bd89b41",
   "metadata": {},
   "outputs": [],
   "source": [
    "rfpred=rf.predict(reshaped_val)"
   ]
  },
  {
   "cell_type": "code",
   "execution_count": 182,
   "id": "50912e2e",
   "metadata": {},
   "outputs": [
    {
     "data": {
      "text/plain": [
       "0.654635053173812"
      ]
     },
     "execution_count": 182,
     "metadata": {},
     "output_type": "execute_result"
    }
   ],
   "source": [
    "metrics.fbeta_score(val_labels,rfpred,beta=1,average=\"weighted\")"
   ]
  },
  {
   "cell_type": "code",
   "execution_count": 176,
   "id": "b695c439",
   "metadata": {},
   "outputs": [
    {
     "data": {
      "text/plain": [
       "array([[  2,   5,   8,   0,   0,  18,   0],\n",
       "       [  0,  24,   8,   0,   0,  20,   0],\n",
       "       [  0,  11,  28,   0,   0,  71,   0],\n",
       "       [  0,   7,   3,   0,   0,   2,   0],\n",
       "       [  0,   2,   6,   0,  14,  89,   0],\n",
       "       [  1,   3,  12,   0,   3, 652,   0],\n",
       "       [  0,   0,   1,   0,   0,  13,   0]], dtype=int64)"
      ]
     },
     "execution_count": 176,
     "metadata": {},
     "output_type": "execute_result"
    }
   ],
   "source": [
    "metrics.confusion_matrix(val_labels,rfpred)"
   ]
  },
  {
   "cell_type": "code",
   "execution_count": null,
   "id": "576574de",
   "metadata": {},
   "outputs": [],
   "source": []
  }
 ],
 "metadata": {
  "kernelspec": {
   "display_name": "Python 3 (ipykernel)",
   "language": "python",
   "name": "python3"
  },
  "language_info": {
   "codemirror_mode": {
    "name": "ipython",
    "version": 3
   },
   "file_extension": ".py",
   "mimetype": "text/x-python",
   "name": "python",
   "nbconvert_exporter": "python",
   "pygments_lexer": "ipython3",
   "version": "3.7.16"
  }
 },
 "nbformat": 4,
 "nbformat_minor": 5
}
