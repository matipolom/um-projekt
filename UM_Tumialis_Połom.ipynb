{
 "cells": [
  {
   "cell_type": "markdown",
   "id": "e91538c5",
   "metadata": {},
   "source": [
    "<center>\n",
    "    <h1 style = \"font-size:24px; font-weight:normal\">Uczenie maszynowe</h1>\n",
    "    <h1 style = \"font-size:24px\">DermaMNIST</h1>\n",
    "    <h1 style = \"font-size:24px\">Paweł Tumialis 180529</h1>\n",
    "    <h1 style = \"font-size:24px\">Mateusz Połom 180565</h1>\n",
    "    <h1 style = \"font-size:24px\">Sztuczna inteligencja</h1>\n",
    "        <h1 style = \"font-size:24px\">14.06.2023</h1>\n",
    "</center>"
   ]
  },
  {
   "cell_type": "code",
   "execution_count": 1,
   "id": "721ac629",
   "metadata": {},
   "outputs": [
    {
     "name": "stdout",
     "output_type": "stream",
     "text": [
      "Collecting medmnist\n",
      "  Downloading medmnist-2.2.2-py3-none-any.whl (21 kB)\n",
      "Requirement already satisfied: Pillow in c:\\users\\mateu\\anaconda3\\envs\\mmelab\\lib\\site-packages (from medmnist) (9.4.0)\n",
      "Collecting torchvision\n",
      "  Downloading torchvision-0.14.1-cp37-cp37m-win_amd64.whl (1.1 MB)\n",
      "     ---------------------------------------- 1.1/1.1 MB 6.3 MB/s eta 0:00:00\n",
      "Collecting scikit-image\n",
      "  Downloading scikit_image-0.19.3-cp37-cp37m-win_amd64.whl (12.1 MB)\n",
      "     --------------------------------------- 12.1/12.1 MB 10.7 MB/s eta 0:00:00\n",
      "Collecting torch\n",
      "  Downloading torch-1.13.1-cp37-cp37m-win_amd64.whl (162.6 MB)\n",
      "     -------------------------------------- 162.6/162.6 MB 2.5 MB/s eta 0:00:00\n",
      "Collecting fire\n",
      "  Downloading fire-0.5.0.tar.gz (88 kB)\n",
      "     ---------------------------------------- 88.3/88.3 kB 4.9 MB/s eta 0:00:00\n",
      "  Preparing metadata (setup.py): started\n",
      "  Preparing metadata (setup.py): finished with status 'done'\n",
      "Requirement already satisfied: tqdm in c:\\users\\mateu\\anaconda3\\envs\\mmelab\\lib\\site-packages (from medmnist) (4.64.1)\n",
      "Requirement already satisfied: scikit-learn in c:\\users\\mateu\\anaconda3\\envs\\mmelab\\lib\\site-packages (from medmnist) (1.0.2)\n",
      "Requirement already satisfied: pandas in c:\\users\\mateu\\anaconda3\\envs\\mmelab\\lib\\site-packages (from medmnist) (1.3.5)\n",
      "Requirement already satisfied: numpy in c:\\users\\mateu\\anaconda3\\envs\\mmelab\\lib\\site-packages (from medmnist) (1.21.6)\n",
      "Requirement already satisfied: six in c:\\users\\mateu\\anaconda3\\envs\\mmelab\\lib\\site-packages (from fire->medmnist) (1.16.0)\n",
      "Requirement already satisfied: termcolor in c:\\users\\mateu\\anaconda3\\envs\\mmelab\\lib\\site-packages (from fire->medmnist) (2.2.0)\n",
      "Requirement already satisfied: pytz>=2017.3 in c:\\users\\mateu\\anaconda3\\envs\\mmelab\\lib\\site-packages (from pandas->medmnist) (2022.7)\n",
      "Requirement already satisfied: python-dateutil>=2.7.3 in c:\\users\\mateu\\anaconda3\\envs\\mmelab\\lib\\site-packages (from pandas->medmnist) (2.8.2)\n",
      "Requirement already satisfied: scipy>=1.4.1 in c:\\users\\mateu\\anaconda3\\envs\\mmelab\\lib\\site-packages (from scikit-image->medmnist) (1.7.3)\n",
      "Requirement already satisfied: packaging>=20.0 in c:\\users\\mateu\\anaconda3\\envs\\mmelab\\lib\\site-packages (from scikit-image->medmnist) (22.0)\n",
      "Collecting PyWavelets>=1.1.1\n",
      "  Downloading PyWavelets-1.3.0-cp37-cp37m-win_amd64.whl (4.2 MB)\n",
      "     ---------------------------------------- 4.2/4.2 MB 14.7 MB/s eta 0:00:00\n",
      "Collecting networkx>=2.2\n",
      "  Downloading networkx-2.6.3-py3-none-any.whl (1.9 MB)\n",
      "     ---------------------------------------- 1.9/1.9 MB 13.6 MB/s eta 0:00:00\n",
      "Collecting tifffile>=2019.7.26\n",
      "  Downloading tifffile-2021.11.2-py3-none-any.whl (178 kB)\n",
      "     -------------------------------------- 178.9/178.9 kB 5.4 MB/s eta 0:00:00\n",
      "Collecting imageio>=2.4.1\n",
      "  Downloading imageio-2.31.0-py3-none-any.whl (313 kB)\n",
      "     ------------------------------------- 313.2/313.2 kB 18.9 MB/s eta 0:00:00\n",
      "Requirement already satisfied: joblib>=0.11 in c:\\users\\mateu\\anaconda3\\envs\\mmelab\\lib\\site-packages (from scikit-learn->medmnist) (1.1.1)\n",
      "Requirement already satisfied: threadpoolctl>=2.0.0 in c:\\users\\mateu\\anaconda3\\envs\\mmelab\\lib\\site-packages (from scikit-learn->medmnist) (2.2.0)\n",
      "Requirement already satisfied: typing-extensions in c:\\users\\mateu\\anaconda3\\envs\\mmelab\\lib\\site-packages (from torch->medmnist) (4.4.0)\n",
      "Requirement already satisfied: requests in c:\\users\\mateu\\anaconda3\\envs\\mmelab\\lib\\site-packages (from torchvision->medmnist) (2.28.2)\n",
      "Requirement already satisfied: colorama in c:\\users\\mateu\\anaconda3\\envs\\mmelab\\lib\\site-packages (from tqdm->medmnist) (0.4.6)\n",
      "Requirement already satisfied: charset-normalizer<4,>=2 in c:\\users\\mateu\\anaconda3\\envs\\mmelab\\lib\\site-packages (from requests->torchvision->medmnist) (3.1.0)\n",
      "Requirement already satisfied: urllib3<1.27,>=1.21.1 in c:\\users\\mateu\\anaconda3\\envs\\mmelab\\lib\\site-packages (from requests->torchvision->medmnist) (1.26.15)\n",
      "Requirement already satisfied: certifi>=2017.4.17 in c:\\users\\mateu\\anaconda3\\envs\\mmelab\\lib\\site-packages (from requests->torchvision->medmnist) (2022.12.7)\n",
      "Requirement already satisfied: idna<4,>=2.5 in c:\\users\\mateu\\anaconda3\\envs\\mmelab\\lib\\site-packages (from requests->torchvision->medmnist) (3.4)\n",
      "Building wheels for collected packages: fire\n",
      "  Building wheel for fire (setup.py): started\n",
      "  Building wheel for fire (setup.py): finished with status 'done'\n",
      "  Created wheel for fire: filename=fire-0.5.0-py2.py3-none-any.whl size=116947 sha256=f8a7f8d754a2206831c0c525a0dad6cf08ccee337524ba170465fbbe43dda07c\n",
      "  Stored in directory: c:\\users\\mateu\\appdata\\local\\pip\\cache\\wheels\\20\\e8\\7b\\003fc14f02f262dd4614aec55e41147c8012e3dad98c936b76\n",
      "Successfully built fire\n",
      "Installing collected packages: torch, tifffile, PyWavelets, networkx, imageio, fire, torchvision, scikit-image, medmnist\n",
      "Successfully installed PyWavelets-1.3.0 fire-0.5.0 imageio-2.31.0 medmnist-2.2.2 networkx-2.6.3 scikit-image-0.19.3 tifffile-2021.11.2 torch-1.13.1 torchvision-0.14.1\n"
     ]
    }
   ],
   "source": [
    "!pip install medmnist"
   ]
  },
  {
   "cell_type": "code",
   "execution_count": 1,
   "id": "40f44055",
   "metadata": {},
   "outputs": [],
   "source": [
    "import matplotlib.pyplot as plt\n",
    "from medmnist import DermaMNIST\n",
    "import numpy as np\n",
    "from sklearn import svm\n",
    "from sklearn import metrics\n",
    "from sklearn.ensemble import RandomForestClassifier\n",
    "import matplotlib.pyplot as plt \n",
    "import random\n",
    "import keras\n",
    "import tensorflow as tf"
   ]
  },
  {
   "cell_type": "code",
   "execution_count": 43,
   "id": "43627a73",
   "metadata": {},
   "outputs": [
    {
     "name": "stdout",
     "output_type": "stream",
     "text": [
      "Using downloaded and verified file: C:\\Users\\pawel\\.medmnist\\dermamnist.npz\n",
      "Using downloaded and verified file: C:\\Users\\pawel\\.medmnist\\dermamnist.npz\n",
      "Using downloaded and verified file: C:\\Users\\pawel\\.medmnist\\dermamnist.npz\n"
     ]
    }
   ],
   "source": [
    "#dataset=np.load(\"C:/Users/mateu/.medmnist/dermamnist.npz\")\n",
    "train_dataset = DermaMNIST(split='train', download=True)\n",
    "test_dataset = DermaMNIST(split='test', download=True)\n",
    "valid_dataset = DermaMNIST(split='val', download=True)"
   ]
  },
  {
   "cell_type": "markdown",
   "id": "d504c70a",
   "metadata": {},
   "source": [
    "# Przetwarzanie wstępne"
   ]
  },
  {
   "cell_type": "code",
   "execution_count": 44,
   "id": "c5954e0b",
   "metadata": {},
   "outputs": [],
   "source": [
    "def rgb2gray(rgb):\n",
    "    return np.dot(rgb[...,:3], [0.299, 0.587, 0.144])"
   ]
  },
  {
   "cell_type": "code",
   "execution_count": 45,
   "id": "e4b5acb9",
   "metadata": {},
   "outputs": [
    {
     "name": "stdout",
     "output_type": "stream",
     "text": [
      "[158 111 117 ... 173 145 142]\n"
     ]
    }
   ],
   "source": [
    "#print(dataset.files)\n",
    "'''\n",
    "train_images=dataset[\"train_images\"]\n",
    "val_images=dataset[\"val_images\"]\n",
    "test_images=dataset[\"test_images\"]\n",
    "train_labels=dataset[\"train_labels\"]\n",
    "val_labels=dataset[\"val_labels\"]\n",
    "test_labels=dataset[\"test_labels\"]\n",
    "'''\n",
    "train_images=train_dataset.imgs\n",
    "val_images=valid_dataset.imgs\n",
    "test_images=test_dataset.imgs\n",
    "train_labels=train_dataset.labels\n",
    "val_labels=valid_dataset.labels\n",
    "test_labels=test_dataset.labels\n",
    "print(np.reshape(train_images[0],-1))\n",
    "   \n",
    "gray_train = rgb2gray(train_images)\n",
    "gray_val = rgb2gray(val_images)\n",
    "gray_test = rgb2gray(test_images)\n",
    "#plt.imshow(gray_arr)\n",
    "#gray_arr.shape"
   ]
  },
  {
   "cell_type": "code",
   "execution_count": 46,
   "id": "e0b47b3f",
   "metadata": {},
   "outputs": [
    {
     "name": "stdout",
     "output_type": "stream",
     "text": [
      "[0 1 2 3 4 5 6]\n",
      "[0 1 2 3 4 5 6]\n",
      "[0 1 2 3 4 5 6]\n"
     ]
    }
   ],
   "source": [
    "print(np.unique(val_labels))\n",
    "print(np.unique(test_labels))\n",
    "print(np.unique(train_labels))      "
   ]
  },
  {
   "cell_type": "code",
   "execution_count": 47,
   "id": "c3b3c580",
   "metadata": {},
   "outputs": [
    {
     "data": {
      "text/plain": [
       "<matplotlib.image.AxesImage at 0x20a3a7a4760>"
      ]
     },
     "execution_count": 47,
     "metadata": {},
     "output_type": "execute_result"
    },
    {
     "data": {
      "image/png": "[encoded data removed]",
      "text/plain": [
       "<Figure size 640x480 with 1 Axes>"
      ]
     },
     "metadata": {},
     "output_type": "display_data"
    }
   ],
   "source": [
    "plt.imshow(gray_train[700])"
   ]
  },
  {
   "cell_type": "code",
   "execution_count": 48,
   "id": "162bc742",
   "metadata": {},
   "outputs": [
    {
     "data": {
      "text/plain": [
       "(2005, 28, 28)"
      ]
     },
     "execution_count": 48,
     "metadata": {},
     "output_type": "execute_result"
    }
   ],
   "source": [
    "gray_test.shape"
   ]
  },
  {
   "cell_type": "code",
   "execution_count": 49,
   "id": "d3e2fa0b",
   "metadata": {},
   "outputs": [
    {
     "data": {
      "text/plain": [
       "(2005, 2352)"
      ]
     },
     "execution_count": 49,
     "metadata": {},
     "output_type": "execute_result"
    }
   ],
   "source": [
    "reshaped_train=train_images.reshape(7007,-1)\n",
    "reshaped_val=val_images.reshape(1003,-1)\n",
    "reshaped_test=test_images.reshape(2005,-1)\n",
    "reshaped_test.shape"
   ]
  },
  {
   "cell_type": "markdown",
   "id": "16e893e2",
   "metadata": {},
   "source": [
    "# Algorytmy klasyczne"
   ]
  },
  {
   "cell_type": "code",
   "execution_count": 50,
   "id": "e96fb3e1",
   "metadata": {},
   "outputs": [
    {
     "name": "stderr",
     "output_type": "stream",
     "text": [
      "C:\\Users\\pawel\\AppData\\Local\\Programs\\Python\\Python310\\lib\\site-packages\\sklearn\\utils\\validation.py:1143: DataConversionWarning: A column-vector y was passed when a 1d array was expected. Please change the shape of y to (n_samples, ), for example using ravel().\n",
      "  y = column_or_1d(y, warn=True)\n"
     ]
    },
    {
     "data": {
      "text/html": [
       "<style>#sk-container-id-2 {color: black;background-color: white;}#sk-container-id-2 pre{padding: 0;}#sk-container-id-2 div.sk-toggleable {background-color: white;}#sk-container-id-2 label.sk-toggleable__label {cursor: pointer;display: block;width: 100%;margin-bottom: 0;padding: 0.3em;box-sizing: border-box;text-align: center;}#sk-container-id-2 label.sk-toggleable__label-arrow:before {content: \"▸\";float: left;margin-right: 0.25em;color: #696969;}#sk-container-id-2 label.sk-toggleable__label-arrow:hover:before {color: black;}#sk-container-id-2 div.sk-estimator:hover label.sk-toggleable__label-arrow:before {color: black;}#sk-container-id-2 div.sk-toggleable__content {max-height: 0;max-width: 0;overflow: hidden;text-align: left;background-color: #f0f8ff;}#sk-container-id-2 div.sk-toggleable__content pre {margin: 0.2em;color: black;border-radius: 0.25em;background-color: #f0f8ff;}#sk-container-id-2 input.sk-toggleable__control:checked~div.sk-toggleable__content {max-height: 200px;max-width: 100%;overflow: auto;}#sk-container-id-2 input.sk-toggleable__control:checked~label.sk-toggleable__label-arrow:before {content: \"▾\";}#sk-container-id-2 div.sk-estimator input.sk-toggleable__control:checked~label.sk-toggleable__label {background-color: #d4ebff;}#sk-container-id-2 div.sk-label input.sk-toggleable__control:checked~label.sk-toggleable__label {background-color: #d4ebff;}#sk-container-id-2 input.sk-hidden--visually {border: 0;clip: rect(1px 1px 1px 1px);clip: rect(1px, 1px, 1px, 1px);height: 1px;margin: -1px;overflow: hidden;padding: 0;position: absolute;width: 1px;}#sk-container-id-2 div.sk-estimator {font-family: monospace;background-color: #f0f8ff;border: 1px dotted black;border-radius: 0.25em;box-sizing: border-box;margin-bottom: 0.5em;}#sk-container-id-2 div.sk-estimator:hover {background-color: #d4ebff;}#sk-container-id-2 div.sk-parallel-item::after {content: \"\";width: 100%;border-bottom: 1px solid gray;flex-grow: 1;}#sk-container-id-2 div.sk-label:hover label.sk-toggleable__label {background-color: #d4ebff;}#sk-container-id-2 div.sk-serial::before {content: \"\";position: absolute;border-left: 1px solid gray;box-sizing: border-box;top: 0;bottom: 0;left: 50%;z-index: 0;}#sk-container-id-2 div.sk-serial {display: flex;flex-direction: column;align-items: center;background-color: white;padding-right: 0.2em;padding-left: 0.2em;position: relative;}#sk-container-id-2 div.sk-item {position: relative;z-index: 1;}#sk-container-id-2 div.sk-parallel {display: flex;align-items: stretch;justify-content: center;background-color: white;position: relative;}#sk-container-id-2 div.sk-item::before, #sk-container-id-2 div.sk-parallel-item::before {content: \"\";position: absolute;border-left: 1px solid gray;box-sizing: border-box;top: 0;bottom: 0;left: 50%;z-index: -1;}#sk-container-id-2 div.sk-parallel-item {display: flex;flex-direction: column;z-index: 1;position: relative;background-color: white;}#sk-container-id-2 div.sk-parallel-item:first-child::after {align-self: flex-end;width: 50%;}#sk-container-id-2 div.sk-parallel-item:last-child::after {align-self: flex-start;width: 50%;}#sk-container-id-2 div.sk-parallel-item:only-child::after {width: 0;}#sk-container-id-2 div.sk-dashed-wrapped {border: 1px dashed gray;margin: 0 0.4em 0.5em 0.4em;box-sizing: border-box;padding-bottom: 0.4em;background-color: white;}#sk-container-id-2 div.sk-label label {font-family: monospace;font-weight: bold;display: inline-block;line-height: 1.2em;}#sk-container-id-2 div.sk-label-container {text-align: center;}#sk-container-id-2 div.sk-container {/* jupyter's `normalize.less` sets `[hidden] { display: none; }` but bootstrap.min.css set `[hidden] { display: none !important; }` so we also need the `!important` here to be able to override the default hidden behavior on the sphinx rendered scikit-learn.org. See: https://github.com/scikit-learn/scikit-learn/issues/21755 */display: inline-block !important;position: relative;}#sk-container-id-2 div.sk-text-repr-fallback {display: none;}</style><div id=\"sk-container-id-2\" class=\"sk-top-container\"><div class=\"sk-text-repr-fallback\"><pre>SVC(C=11)</pre><b>In a Jupyter environment, please rerun this cell to show the HTML representation or trust the notebook. <br />On GitHub, the HTML representation is unable to render, please try loading this page with nbviewer.org.</b></div><div class=\"sk-container\" hidden><div class=\"sk-item\"><div class=\"sk-estimator sk-toggleable\"><input class=\"sk-toggleable__control sk-hidden--visually\" id=\"sk-estimator-id-2\" type=\"checkbox\" checked><label for=\"sk-estimator-id-2\" class=\"sk-toggleable__label sk-toggleable__label-arrow\">SVC</label><div class=\"sk-toggleable__content\"><pre>SVC(C=11)</pre></div></div></div></div></div>"
      ],
      "text/plain": [
       "SVC(C=11)"
      ]
     },
     "execution_count": 50,
     "metadata": {},
     "output_type": "execute_result"
    }
   ],
   "source": [
    "clf = svm.SVC(kernel=\"rbf\", C=11)\n",
    "clf.fit(reshaped_train, train_labels)"
   ]
  },
  {
   "cell_type": "code",
   "execution_count": 51,
   "id": "44d87129",
   "metadata": {},
   "outputs": [],
   "source": [
    "pred=clf.predict(reshaped_test)"
   ]
  },
  {
   "cell_type": "code",
   "execution_count": 52,
   "id": "486baee3",
   "metadata": {},
   "outputs": [
    {
     "data": {
      "text/plain": [
       "array([[5],\n",
       "       [3],\n",
       "       [4],\n",
       "       ...,\n",
       "       [5],\n",
       "       [5],\n",
       "       [5]], dtype=uint8)"
      ]
     },
     "execution_count": 52,
     "metadata": {},
     "output_type": "execute_result"
    }
   ],
   "source": [
    "test_labels"
   ]
  },
  {
   "cell_type": "markdown",
   "id": "f5c4893c",
   "metadata": {},
   "source": [
    "# Wynik SVC"
   ]
  },
  {
   "cell_type": "code",
   "execution_count": 53,
   "id": "63c59b78",
   "metadata": {},
   "outputs": [
    {
     "name": "stdout",
     "output_type": "stream",
     "text": [
      "F1 score dla SVC = 0.7315365354600791\n"
     ]
    }
   ],
   "source": [
    "print(\"F1 score dla SVC = {}\".format(metrics.fbeta_score(test_labels,pred,beta=1,average=\"weighted\")))"
   ]
  },
  {
   "cell_type": "code",
   "execution_count": 14,
   "id": "defd28ac",
   "metadata": {},
   "outputs": [
    {
     "data": {
      "text/plain": [
       "array([[  23,   16,   10,    1,    4,   11,    1],\n",
       "       [  12,   51,    8,    0,    3,   29,    0],\n",
       "       [   5,    9,   98,    0,   20,   88,    0],\n",
       "       [   2,    9,    2,    3,    0,    7,    0],\n",
       "       [   5,    6,   29,    1,   62,  120,    0],\n",
       "       [   5,   16,   22,    0,   34, 1264,    0],\n",
       "       [   2,    3,    4,    0,    2,    7,   11]], dtype=int64)"
      ]
     },
     "execution_count": 14,
     "metadata": {},
     "output_type": "execute_result"
    }
   ],
   "source": [
    "metrics.confusion_matrix(test_labels,pred)"
   ]
  },
  {
   "cell_type": "code",
   "execution_count": 15,
   "id": "b89c9369",
   "metadata": {},
   "outputs": [],
   "source": [
    "#0.6833340970259782 dla rbf c=9 gray\n",
    "# array([[  12,   11,   14,    0,    3,   26,    0],\n",
    "#        [   6,   17,    7,    0,    3,   70,    0],\n",
    "#        [  10,    3,   56,    0,   14,  137,    0],\n",
    "#        [   2,    2,    3,    0,    0,   16,    0],\n",
    "#        [   3,    1,   20,    0,   56,  143,    0],\n",
    "#        [   4,   13,   16,    0,   30, 1278,    0],\n",
    "#        [   0,    0,    2,    0,    0,   27,    0]], dtype=int64)\n",
    "\n",
    "# 0.7394007785408839 dla rbf c=9 color\n",
    "# array([[  23,   16,   10,    1,    4,   11,    1],\n",
    "#        [  12,   51,    8,    0,    3,   29,    0],\n",
    "#        [   6,    7,   95,    0,   19,   93,    0],\n",
    "#        [   2,    8,    2,    3,    0,    8,    0],\n",
    "#        [   2,    7,   27,    1,   59,  127,    0],\n",
    "#        [   5,   15,   22,    0,   34, 1265,    0],\n",
    "#        [   2,    4,    3,    0,    1,    9,   10]], dtype=int64)"
   ]
  },
  {
   "cell_type": "code",
   "execution_count": 16,
   "id": "625d9834",
   "metadata": {},
   "outputs": [
    {
     "name": "stderr",
     "output_type": "stream",
     "text": [
      "C:\\Users\\pawel\\AppData\\Local\\Temp\\ipykernel_1056\\402083435.py:2: DataConversionWarning: A column-vector y was passed when a 1d array was expected. Please change the shape of y to (n_samples,), for example using ravel().\n",
      "  rf.fit(reshaped_train, train_labels);\n"
     ]
    }
   ],
   "source": [
    "rf = RandomForestClassifier(n_estimators = 1000, random_state = 5)\n",
    "rf.fit(reshaped_train, train_labels);"
   ]
  },
  {
   "cell_type": "code",
   "execution_count": 19,
   "id": "7bd89b41",
   "metadata": {},
   "outputs": [],
   "source": [
    "rfpred=rf.predict(reshaped_val)"
   ]
  },
  {
   "cell_type": "markdown",
   "id": "93b66949",
   "metadata": {},
   "source": [
    "# Wynik drzew"
   ]
  },
  {
   "cell_type": "code",
   "execution_count": 20,
   "id": "50912e2e",
   "metadata": {},
   "outputs": [
    {
     "name": "stdout",
     "output_type": "stream",
     "text": [
      "F1 dla drzew = 0.654635053173812\n"
     ]
    }
   ],
   "source": [
    "print(\"F1 dla drzew = {}\".format(metrics.fbeta_score(val_labels,rfpred,beta=1,average=\"weighted\")))"
   ]
  },
  {
   "cell_type": "code",
   "execution_count": 22,
   "id": "b695c439",
   "metadata": {},
   "outputs": [
    {
     "data": {
      "text/plain": [
       "array([[  2,   5,   8,   0,   0,  18,   0],\n",
       "       [  0,  24,   8,   0,   0,  20,   0],\n",
       "       [  0,  11,  28,   0,   0,  71,   0],\n",
       "       [  0,   7,   3,   0,   0,   2,   0],\n",
       "       [  0,   2,   6,   0,  14,  89,   0],\n",
       "       [  1,   3,  12,   0,   3, 652,   0],\n",
       "       [  0,   0,   1,   0,   0,  13,   0]], dtype=int64)"
      ]
     },
     "execution_count": 22,
     "metadata": {},
     "output_type": "execute_result"
    }
   ],
   "source": [
    "metrics.confusion_matrix(val_labels,rfpred)"
   ]
  },
  {
   "cell_type": "markdown",
   "id": "48bc02fe",
   "metadata": {},
   "source": [
    "# Proste DNN"
   ]
  },
  {
   "cell_type": "code",
   "execution_count": 30,
   "id": "a56c5c70",
   "metadata": {},
   "outputs": [
    {
     "name": "stdout",
     "output_type": "stream",
     "text": [
      "[5]\n",
      "[0. 0. 0. 0. 0. 1. 0.]\n"
     ]
    },
    {
     "name": "stderr",
     "output_type": "stream",
     "text": [
      "C:\\Users\\pawel\\AppData\\Local\\Programs\\Python\\Python310\\lib\\site-packages\\sklearn\\preprocessing\\_encoders.py:868: FutureWarning: `sparse` was renamed to `sparse_output` in version 1.2 and will be removed in 1.4. `sparse_output` is ignored unless you leave `sparse` to its default value.\n",
      "  warnings.warn(\n"
     ]
    }
   ],
   "source": [
    "from sklearn.preprocessing import OneHotEncoder\n",
    "train = train_dataset.imgs\n",
    "train_labels = train_dataset.labels\n",
    "test = test_dataset.imgs\n",
    "test_labels = test_dataset.labels\n",
    "valid = valid_dataset.imgs\n",
    "valid_labels = valid_dataset.labels\n",
    "\n",
    "train_grey_re = np.ndarray(shape=(len(train), 28*28*3))\n",
    "test_grey_re = np.ndarray(shape=(len(test), 28*28*3))\n",
    "valid_grey_re = np.ndarray(shape=(len(valid), 28*28*3))\n",
    "for i in range(len(train)):\n",
    "    train_grey_re[i] = train[i].reshape((28*28*3))\n",
    "for i in range(len(test)):\n",
    "    test_grey_re[i] = test[i].reshape((28*28*3))\n",
    "for i in range(len(valid)):\n",
    "    valid_grey_re[i] = valid[i].reshape((28*28*3))\n",
    "    \n",
    "print(train_labels[1])\n",
    "test_labels_f1 = test_labels\n",
    "enc = OneHotEncoder(handle_unknown='ignore', sparse=False, dtype='float32')\n",
    "train_labels = enc.fit_transform(train_labels)\n",
    "test_labels = enc.transform(test_labels)\n",
    "valid_labels = enc.transform(valid_labels)\n",
    "print(train_labels[1])"
   ]
  },
  {
   "cell_type": "code",
   "execution_count": 32,
   "id": "a5196510",
   "metadata": {},
   "outputs": [
    {
     "name": "stdout",
     "output_type": "stream",
     "text": [
      "Model: \"sequential_1\"\n",
      "_________________________________________________________________\n",
      " Layer (type)                Output Shape              Param #   \n",
      "=================================================================\n",
      " dense_4 (Dense)             (None, 24)                56448     \n",
      "                                                                 \n",
      " dense_5 (Dense)             (None, 24)                576       \n",
      "                                                                 \n",
      " dense_6 (Dense)             (None, 24)                576       \n",
      "                                                                 \n",
      " dense_7 (Dense)             (None, 7)                 168       \n",
      "                                                                 \n",
      "=================================================================\n",
      "Total params: 57,768\n",
      "Trainable params: 57,768\n",
      "Non-trainable params: 0\n",
      "_________________________________________________________________\n",
      "None\n"
     ]
    }
   ],
   "source": [
    "# to jest mały model i ma tendencję do wpadania w minima, jeśli sieć się nie uczy najlepiej zresetować uczenie\n",
    "import tensorflow as tf\n",
    "# opcje ------------\n",
    "SHUFFLE_BUFFER_SIZE = 100\n",
    "BATCH = 32\n",
    "LR = 1e-5\n",
    "LAYERS = 3\n",
    "NEURONS = 24\n",
    "EPOCHS = 250\n",
    "# ---------------------\n",
    "train_dataset = tf.data.Dataset.from_tensor_slices((train_grey_re, train_labels))\n",
    "valid_dataset = tf.data.Dataset.from_tensor_slices((valid_grey_re, valid_labels))\n",
    "test_dataset = tf.data.Dataset.from_tensor_slices((test_grey_re, test_labels))\n",
    "\n",
    "train_dataset = train_dataset.shuffle(SHUFFLE_BUFFER_SIZE).batch(BATCH)\n",
    "valid_dataset = valid_dataset.shuffle(SHUFFLE_BUFFER_SIZE).batch(BATCH)\n",
    "test_dataset = test_dataset.batch(BATCH)\n",
    "\n",
    "seed=random.seed()\n",
    "np.random.seed(seed)\n",
    "tf.compat.v1.random.set_random_seed(seed)\n",
    "optimizer = tf.keras.optimizers.Adam(learning_rate=LR, beta_1=0.9, beta_2=0.999)\n",
    "loss_fn = tf.keras.losses.CategoricalCrossentropy(from_logits=True)\n",
    "\n",
    "model = tf.keras.models.Sequential()\n",
    "model.add(tf.keras.Input(shape=(28*28*3,)))\n",
    "for i in range(LAYERS):\n",
    "    model.add(tf.keras.layers.Dense(units=NEURONS, activation='relu',use_bias=False))\n",
    "model.add(tf.keras.layers.Dense(7, activation='relu',use_bias=False))\n",
    "model.compile(optimizer=optimizer, loss=tf.keras.losses.CategoricalCrossentropy(from_logits=True), metrics=['categorical_accuracy'])\n",
    "print(model.summary())"
   ]
  },
  {
   "cell_type": "code",
   "execution_count": 33,
   "id": "14b0dbdc",
   "metadata": {},
   "outputs": [
    {
     "name": "stdout",
     "output_type": "stream",
     "text": [
      "Epoch 1/250\n",
      "219/219 [==============================] - 2s 4ms/step - loss: 14.4443 - categorical_accuracy: 0.5166 - val_loss: 5.0979 - val_categorical_accuracy: 0.5783\n",
      "Epoch 2/250\n",
      "219/219 [==============================] - 1s 3ms/step - loss: 4.8249 - categorical_accuracy: 0.5656 - val_loss: 4.5530 - val_categorical_accuracy: 0.6122\n",
      "Epoch 3/250\n",
      "219/219 [==============================] - 1s 2ms/step - loss: 4.2840 - categorical_accuracy: 0.5726 - val_loss: 4.0693 - val_categorical_accuracy: 0.6142\n",
      "Epoch 4/250\n",
      "219/219 [==============================] - 0s 2ms/step - loss: 3.8336 - categorical_accuracy: 0.5784 - val_loss: 3.6500 - val_categorical_accuracy: 0.6102\n",
      "Epoch 5/250\n",
      "219/219 [==============================] - 1s 3ms/step - loss: 3.4668 - categorical_accuracy: 0.5777 - val_loss: 3.3760 - val_categorical_accuracy: 0.6201\n",
      "Epoch 6/250\n",
      "219/219 [==============================] - 1s 3ms/step - loss: 3.1433 - categorical_accuracy: 0.5780 - val_loss: 3.0978 - val_categorical_accuracy: 0.6291\n",
      "Epoch 7/250\n",
      "219/219 [==============================] - 1s 2ms/step - loss: 2.7561 - categorical_accuracy: 0.5743 - val_loss: 2.5404 - val_categorical_accuracy: 0.5992\n",
      "Epoch 8/250\n",
      "219/219 [==============================] - 0s 2ms/step - loss: 2.1118 - categorical_accuracy: 0.5242 - val_loss: 1.8477 - val_categorical_accuracy: 0.4756\n",
      "Epoch 9/250\n",
      "219/219 [==============================] - 1s 2ms/step - loss: 1.7353 - categorical_accuracy: 0.4891 - val_loss: 1.6961 - val_categorical_accuracy: 0.4716\n",
      "Epoch 10/250\n",
      "219/219 [==============================] - 0s 2ms/step - loss: 1.6032 - categorical_accuracy: 0.5246 - val_loss: 1.5892 - val_categorical_accuracy: 0.5264\n",
      "Epoch 11/250\n",
      "219/219 [==============================] - 1s 3ms/step - loss: 1.5205 - categorical_accuracy: 0.5543 - val_loss: 1.5176 - val_categorical_accuracy: 0.5374\n",
      "Epoch 12/250\n",
      "219/219 [==============================] - 1s 2ms/step - loss: 1.4372 - categorical_accuracy: 0.5806 - val_loss: 1.3902 - val_categorical_accuracy: 0.6072\n",
      "Epoch 13/250\n",
      "219/219 [==============================] - 1s 2ms/step - loss: 1.3606 - categorical_accuracy: 0.6031 - val_loss: 1.3930 - val_categorical_accuracy: 0.6042\n",
      "Epoch 14/250\n",
      "219/219 [==============================] - 1s 2ms/step - loss: 1.3072 - categorical_accuracy: 0.6170 - val_loss: 1.3149 - val_categorical_accuracy: 0.6341\n",
      "Epoch 15/250\n",
      "219/219 [==============================] - 1s 3ms/step - loss: 1.2551 - categorical_accuracy: 0.6358 - val_loss: 1.2332 - val_categorical_accuracy: 0.6550\n",
      "Epoch 16/250\n",
      "219/219 [==============================] - 0s 2ms/step - loss: 1.2327 - categorical_accuracy: 0.6376 - val_loss: 1.2850 - val_categorical_accuracy: 0.6351\n",
      "Epoch 17/250\n",
      "219/219 [==============================] - 0s 2ms/step - loss: 1.2110 - categorical_accuracy: 0.6452 - val_loss: 1.2528 - val_categorical_accuracy: 0.6481\n",
      "Epoch 18/250\n",
      "219/219 [==============================] - 0s 2ms/step - loss: 1.1949 - categorical_accuracy: 0.6531 - val_loss: 1.2156 - val_categorical_accuracy: 0.6500\n",
      "Epoch 19/250\n",
      "219/219 [==============================] - 0s 2ms/step - loss: 1.1805 - categorical_accuracy: 0.6553 - val_loss: 1.2117 - val_categorical_accuracy: 0.6471\n",
      "Epoch 20/250\n",
      "219/219 [==============================] - 0s 2ms/step - loss: 1.1681 - categorical_accuracy: 0.6576 - val_loss: 1.2010 - val_categorical_accuracy: 0.6510\n",
      "Epoch 21/250\n",
      "219/219 [==============================] - 0s 2ms/step - loss: 1.1600 - categorical_accuracy: 0.6582 - val_loss: 1.1879 - val_categorical_accuracy: 0.6520\n",
      "Epoch 22/250\n",
      "219/219 [==============================] - 1s 3ms/step - loss: 1.1522 - categorical_accuracy: 0.6595 - val_loss: 1.1693 - val_categorical_accuracy: 0.6580\n",
      "Epoch 23/250\n",
      "219/219 [==============================] - 0s 2ms/step - loss: 1.1475 - categorical_accuracy: 0.6586 - val_loss: 1.1691 - val_categorical_accuracy: 0.6540\n",
      "Epoch 24/250\n",
      "219/219 [==============================] - 0s 2ms/step - loss: 1.1457 - categorical_accuracy: 0.6585 - val_loss: 1.1634 - val_categorical_accuracy: 0.6520\n",
      "Epoch 25/250\n",
      "219/219 [==============================] - 0s 2ms/step - loss: 1.1364 - categorical_accuracy: 0.6599 - val_loss: 1.1565 - val_categorical_accuracy: 0.6500\n",
      "Epoch 26/250\n",
      "219/219 [==============================] - 0s 2ms/step - loss: 1.1344 - categorical_accuracy: 0.6579 - val_loss: 1.1564 - val_categorical_accuracy: 0.6540\n",
      "Epoch 27/250\n",
      "219/219 [==============================] - 0s 2ms/step - loss: 1.1291 - categorical_accuracy: 0.6605 - val_loss: 1.1508 - val_categorical_accuracy: 0.6520\n",
      "Epoch 28/250\n",
      "219/219 [==============================] - 0s 2ms/step - loss: 1.1222 - categorical_accuracy: 0.6608 - val_loss: 1.1541 - val_categorical_accuracy: 0.6540\n",
      "Epoch 29/250\n",
      "219/219 [==============================] - 1s 2ms/step - loss: 1.1189 - categorical_accuracy: 0.6625 - val_loss: 1.1361 - val_categorical_accuracy: 0.6620\n",
      "Epoch 30/250\n",
      "219/219 [==============================] - 1s 2ms/step - loss: 1.1133 - categorical_accuracy: 0.6631 - val_loss: 1.1328 - val_categorical_accuracy: 0.6580\n",
      "Epoch 31/250\n",
      "219/219 [==============================] - 1s 3ms/step - loss: 1.1110 - categorical_accuracy: 0.6643 - val_loss: 1.1254 - val_categorical_accuracy: 0.6640\n",
      "Epoch 32/250\n",
      "219/219 [==============================] - 0s 2ms/step - loss: 1.1069 - categorical_accuracy: 0.6626 - val_loss: 1.1268 - val_categorical_accuracy: 0.6610\n",
      "Epoch 33/250\n",
      "219/219 [==============================] - 0s 2ms/step - loss: 1.1068 - categorical_accuracy: 0.6611 - val_loss: 1.1305 - val_categorical_accuracy: 0.6630\n",
      "Epoch 34/250\n",
      "219/219 [==============================] - 0s 2ms/step - loss: 1.1020 - categorical_accuracy: 0.6631 - val_loss: 1.1399 - val_categorical_accuracy: 0.6640\n",
      "Epoch 35/250\n",
      "219/219 [==============================] - 1s 3ms/step - loss: 1.1003 - categorical_accuracy: 0.6632 - val_loss: 1.0999 - val_categorical_accuracy: 0.6610\n",
      "Epoch 36/250\n",
      "219/219 [==============================] - 0s 2ms/step - loss: 1.0976 - categorical_accuracy: 0.6670 - val_loss: 1.1004 - val_categorical_accuracy: 0.6620\n",
      "Epoch 37/250\n",
      "219/219 [==============================] - 0s 2ms/step - loss: 1.0869 - categorical_accuracy: 0.6685 - val_loss: 1.0884 - val_categorical_accuracy: 0.6640\n",
      "Epoch 38/250\n",
      "219/219 [==============================] - 1s 2ms/step - loss: 1.0817 - categorical_accuracy: 0.6680 - val_loss: 1.0839 - val_categorical_accuracy: 0.6660\n",
      "Epoch 39/250\n",
      "219/219 [==============================] - 1s 2ms/step - loss: 1.0701 - categorical_accuracy: 0.6706 - val_loss: 1.0743 - val_categorical_accuracy: 0.6680\n",
      "Epoch 40/250\n",
      "219/219 [==============================] - 0s 2ms/step - loss: 1.0642 - categorical_accuracy: 0.6716 - val_loss: 1.0696 - val_categorical_accuracy: 0.6670\n",
      "Epoch 41/250\n",
      "219/219 [==============================] - 0s 2ms/step - loss: 1.0618 - categorical_accuracy: 0.6698 - val_loss: 1.0657 - val_categorical_accuracy: 0.6670\n",
      "Epoch 42/250\n",
      "219/219 [==============================] - 0s 2ms/step - loss: 1.0546 - categorical_accuracy: 0.6708 - val_loss: 1.0614 - val_categorical_accuracy: 0.6670\n",
      "Epoch 43/250\n",
      "219/219 [==============================] - 0s 2ms/step - loss: 1.0543 - categorical_accuracy: 0.6708 - val_loss: 1.0616 - val_categorical_accuracy: 0.6660\n",
      "Epoch 44/250\n",
      "219/219 [==============================] - 0s 2ms/step - loss: 1.0498 - categorical_accuracy: 0.6716 - val_loss: 1.0530 - val_categorical_accuracy: 0.6680\n",
      "Epoch 45/250\n",
      "219/219 [==============================] - 1s 2ms/step - loss: 1.0457 - categorical_accuracy: 0.6705 - val_loss: 1.0519 - val_categorical_accuracy: 0.6690\n",
      "Epoch 46/250\n",
      "219/219 [==============================] - 0s 2ms/step - loss: 1.0441 - categorical_accuracy: 0.6716 - val_loss: 1.0479 - val_categorical_accuracy: 0.6680\n",
      "Epoch 47/250\n",
      "219/219 [==============================] - 1s 2ms/step - loss: 1.0409 - categorical_accuracy: 0.6716 - val_loss: 1.0429 - val_categorical_accuracy: 0.6690\n",
      "Epoch 48/250\n",
      "219/219 [==============================] - 0s 2ms/step - loss: 1.0422 - categorical_accuracy: 0.6709 - val_loss: 1.0413 - val_categorical_accuracy: 0.6680\n",
      "Epoch 49/250\n",
      "219/219 [==============================] - 1s 3ms/step - loss: 1.0407 - categorical_accuracy: 0.6706 - val_loss: 1.0391 - val_categorical_accuracy: 0.6690\n"
     ]
    },
    {
     "name": "stdout",
     "output_type": "stream",
     "text": [
      "Epoch 50/250\n",
      "219/219 [==============================] - 0s 2ms/step - loss: 1.0389 - categorical_accuracy: 0.6718 - val_loss: 1.0358 - val_categorical_accuracy: 0.6690\n",
      "Epoch 51/250\n",
      "219/219 [==============================] - 0s 2ms/step - loss: 1.0341 - categorical_accuracy: 0.6719 - val_loss: 1.0338 - val_categorical_accuracy: 0.6680\n",
      "Epoch 52/250\n",
      "219/219 [==============================] - 1s 2ms/step - loss: 1.0327 - categorical_accuracy: 0.6730 - val_loss: 1.0337 - val_categorical_accuracy: 0.6690\n",
      "Epoch 53/250\n",
      "219/219 [==============================] - 1s 3ms/step - loss: 1.0339 - categorical_accuracy: 0.6706 - val_loss: 1.0292 - val_categorical_accuracy: 0.6680\n",
      "Epoch 54/250\n",
      "219/219 [==============================] - 1s 3ms/step - loss: 1.0294 - categorical_accuracy: 0.6728 - val_loss: 1.0294 - val_categorical_accuracy: 0.6670\n",
      "Epoch 55/250\n",
      "219/219 [==============================] - 0s 2ms/step - loss: 1.0300 - categorical_accuracy: 0.6716 - val_loss: 1.0275 - val_categorical_accuracy: 0.6680\n",
      "Epoch 56/250\n",
      "219/219 [==============================] - 0s 2ms/step - loss: 1.0255 - categorical_accuracy: 0.6726 - val_loss: 1.0238 - val_categorical_accuracy: 0.6670\n",
      "Epoch 57/250\n",
      "219/219 [==============================] - 0s 2ms/step - loss: 1.0286 - categorical_accuracy: 0.6720 - val_loss: 1.0254 - val_categorical_accuracy: 0.6690\n",
      "Epoch 58/250\n",
      "219/219 [==============================] - 1s 2ms/step - loss: 1.0282 - categorical_accuracy: 0.6728 - val_loss: 1.0165 - val_categorical_accuracy: 0.6710\n",
      "Epoch 59/250\n",
      "219/219 [==============================] - 0s 2ms/step - loss: 1.0235 - categorical_accuracy: 0.6729 - val_loss: 1.0152 - val_categorical_accuracy: 0.6710\n",
      "Epoch 60/250\n",
      "219/219 [==============================] - 0s 2ms/step - loss: 1.0203 - categorical_accuracy: 0.6730 - val_loss: 1.0144 - val_categorical_accuracy: 0.6700\n",
      "Epoch 61/250\n",
      "219/219 [==============================] - 0s 2ms/step - loss: 1.0212 - categorical_accuracy: 0.6736 - val_loss: 1.0131 - val_categorical_accuracy: 0.6710\n",
      "Epoch 62/250\n",
      "219/219 [==============================] - 1s 2ms/step - loss: 1.0191 - categorical_accuracy: 0.6732 - val_loss: 1.0156 - val_categorical_accuracy: 0.6680\n",
      "Epoch 63/250\n",
      "219/219 [==============================] - 1s 3ms/step - loss: 1.0174 - categorical_accuracy: 0.6733 - val_loss: 1.0079 - val_categorical_accuracy: 0.6720\n",
      "Epoch 64/250\n",
      "219/219 [==============================] - 0s 2ms/step - loss: 1.0174 - categorical_accuracy: 0.6733 - val_loss: 1.0083 - val_categorical_accuracy: 0.6700\n",
      "Epoch 65/250\n",
      "219/219 [==============================] - 0s 2ms/step - loss: 1.0154 - categorical_accuracy: 0.6732 - val_loss: 1.0076 - val_categorical_accuracy: 0.6680\n",
      "Epoch 66/250\n",
      "219/219 [==============================] - 0s 2ms/step - loss: 1.0153 - categorical_accuracy: 0.6730 - val_loss: 1.0099 - val_categorical_accuracy: 0.6680\n",
      "Epoch 67/250\n",
      "219/219 [==============================] - 0s 2ms/step - loss: 1.0117 - categorical_accuracy: 0.6736 - val_loss: 1.0032 - val_categorical_accuracy: 0.6700\n",
      "Epoch 68/250\n",
      "219/219 [==============================] - 0s 2ms/step - loss: 1.0102 - categorical_accuracy: 0.6736 - val_loss: 1.0105 - val_categorical_accuracy: 0.6710\n",
      "Epoch 69/250\n",
      "219/219 [==============================] - 0s 2ms/step - loss: 1.0125 - categorical_accuracy: 0.6732 - val_loss: 1.0148 - val_categorical_accuracy: 0.6650\n",
      "Epoch 70/250\n",
      "219/219 [==============================] - 0s 2ms/step - loss: 1.0097 - categorical_accuracy: 0.6733 - val_loss: 1.0025 - val_categorical_accuracy: 0.6710\n",
      "Epoch 71/250\n",
      "219/219 [==============================] - 0s 2ms/step - loss: 1.0046 - categorical_accuracy: 0.6745 - val_loss: 1.0071 - val_categorical_accuracy: 0.6660\n",
      "Epoch 72/250\n",
      "219/219 [==============================] - 0s 2ms/step - loss: 0.9800 - categorical_accuracy: 0.6726 - val_loss: 1.0199 - val_categorical_accuracy: 0.6670\n",
      "Epoch 73/250\n",
      "219/219 [==============================] - 0s 2ms/step - loss: 0.9764 - categorical_accuracy: 0.6723 - val_loss: 0.9888 - val_categorical_accuracy: 0.6670\n",
      "Epoch 74/250\n",
      "219/219 [==============================] - 0s 2ms/step - loss: 0.9713 - categorical_accuracy: 0.6735 - val_loss: 0.9757 - val_categorical_accuracy: 0.6690\n",
      "Epoch 75/250\n",
      "219/219 [==============================] - 0s 2ms/step - loss: 0.9682 - categorical_accuracy: 0.6726 - val_loss: 0.9901 - val_categorical_accuracy: 0.6690\n",
      "Epoch 76/250\n",
      "219/219 [==============================] - 0s 2ms/step - loss: 0.9655 - categorical_accuracy: 0.6729 - val_loss: 0.9762 - val_categorical_accuracy: 0.6690\n",
      "Epoch 77/250\n",
      "219/219 [==============================] - 0s 2ms/step - loss: 0.9634 - categorical_accuracy: 0.6729 - val_loss: 0.9718 - val_categorical_accuracy: 0.6650\n",
      "Epoch 78/250\n",
      "219/219 [==============================] - 0s 2ms/step - loss: 0.9646 - categorical_accuracy: 0.6732 - val_loss: 0.9696 - val_categorical_accuracy: 0.6660\n",
      "Epoch 79/250\n",
      "219/219 [==============================] - 0s 2ms/step - loss: 0.9603 - categorical_accuracy: 0.6728 - val_loss: 0.9673 - val_categorical_accuracy: 0.6680\n",
      "Epoch 80/250\n",
      "219/219 [==============================] - 0s 2ms/step - loss: 0.9591 - categorical_accuracy: 0.6726 - val_loss: 0.9680 - val_categorical_accuracy: 0.6680\n",
      "Epoch 81/250\n",
      "219/219 [==============================] - 0s 2ms/step - loss: 0.9563 - categorical_accuracy: 0.6725 - val_loss: 0.9628 - val_categorical_accuracy: 0.6700\n",
      "Epoch 82/250\n",
      "219/219 [==============================] - 1s 2ms/step - loss: 0.9541 - categorical_accuracy: 0.6726 - val_loss: 0.9677 - val_categorical_accuracy: 0.6730\n",
      "Epoch 83/250\n",
      "219/219 [==============================] - 0s 2ms/step - loss: 0.9540 - categorical_accuracy: 0.6742 - val_loss: 0.9653 - val_categorical_accuracy: 0.6730\n",
      "Epoch 84/250\n",
      "219/219 [==============================] - 1s 2ms/step - loss: 0.9509 - categorical_accuracy: 0.6770 - val_loss: 0.9653 - val_categorical_accuracy: 0.6740\n",
      "Epoch 85/250\n",
      "219/219 [==============================] - 0s 2ms/step - loss: 0.9518 - categorical_accuracy: 0.6738 - val_loss: 0.9580 - val_categorical_accuracy: 0.6740\n",
      "Epoch 86/250\n",
      "219/219 [==============================] - 0s 2ms/step - loss: 0.9474 - categorical_accuracy: 0.6749 - val_loss: 0.9559 - val_categorical_accuracy: 0.6740\n",
      "Epoch 87/250\n",
      "219/219 [==============================] - 0s 2ms/step - loss: 0.9476 - categorical_accuracy: 0.6756 - val_loss: 0.9633 - val_categorical_accuracy: 0.6730\n",
      "Epoch 88/250\n",
      "219/219 [==============================] - 1s 2ms/step - loss: 0.9476 - categorical_accuracy: 0.6773 - val_loss: 0.9596 - val_categorical_accuracy: 0.6730\n",
      "Epoch 89/250\n",
      "219/219 [==============================] - 0s 2ms/step - loss: 0.9467 - categorical_accuracy: 0.6763 - val_loss: 0.9554 - val_categorical_accuracy: 0.6730\n",
      "Epoch 90/250\n",
      "219/219 [==============================] - 1s 2ms/step - loss: 0.9469 - categorical_accuracy: 0.6782 - val_loss: 0.9517 - val_categorical_accuracy: 0.6740\n",
      "Epoch 91/250\n",
      "219/219 [==============================] - 0s 2ms/step - loss: 0.9428 - categorical_accuracy: 0.6758 - val_loss: 0.9578 - val_categorical_accuracy: 0.6740\n",
      "Epoch 92/250\n",
      "219/219 [==============================] - 1s 2ms/step - loss: 0.9441 - categorical_accuracy: 0.6775 - val_loss: 0.9480 - val_categorical_accuracy: 0.6760\n",
      "Epoch 93/250\n",
      "219/219 [==============================] - 0s 2ms/step - loss: 0.9404 - categorical_accuracy: 0.6768 - val_loss: 0.9645 - val_categorical_accuracy: 0.6730\n",
      "Epoch 94/250\n",
      "219/219 [==============================] - 0s 2ms/step - loss: 0.9407 - categorical_accuracy: 0.6769 - val_loss: 0.9547 - val_categorical_accuracy: 0.6750\n",
      "Epoch 95/250\n",
      "219/219 [==============================] - 1s 2ms/step - loss: 0.9389 - categorical_accuracy: 0.6769 - val_loss: 0.9485 - val_categorical_accuracy: 0.6770\n",
      "Epoch 96/250\n",
      "219/219 [==============================] - 1s 2ms/step - loss: 0.9371 - categorical_accuracy: 0.6766 - val_loss: 0.9433 - val_categorical_accuracy: 0.6810\n",
      "Epoch 97/250\n",
      "219/219 [==============================] - 0s 2ms/step - loss: 0.9345 - categorical_accuracy: 0.6765 - val_loss: 0.9520 - val_categorical_accuracy: 0.6740\n",
      "Epoch 98/250\n",
      "219/219 [==============================] - 0s 2ms/step - loss: 0.9368 - categorical_accuracy: 0.6783 - val_loss: 0.9518 - val_categorical_accuracy: 0.6740\n"
     ]
    },
    {
     "name": "stdout",
     "output_type": "stream",
     "text": [
      "Epoch 99/250\n",
      "219/219 [==============================] - 0s 2ms/step - loss: 0.9369 - categorical_accuracy: 0.6772 - val_loss: 0.9467 - val_categorical_accuracy: 0.6750\n",
      "Epoch 100/250\n",
      "219/219 [==============================] - 0s 2ms/step - loss: 0.9336 - categorical_accuracy: 0.6782 - val_loss: 0.9549 - val_categorical_accuracy: 0.6770\n",
      "Epoch 101/250\n",
      "219/219 [==============================] - 0s 2ms/step - loss: 0.9346 - categorical_accuracy: 0.6783 - val_loss: 0.9393 - val_categorical_accuracy: 0.6810\n",
      "Epoch 102/250\n",
      "219/219 [==============================] - 0s 2ms/step - loss: 0.9306 - categorical_accuracy: 0.6786 - val_loss: 0.9510 - val_categorical_accuracy: 0.6780\n",
      "Epoch 103/250\n",
      "219/219 [==============================] - 0s 2ms/step - loss: 0.9327 - categorical_accuracy: 0.6805 - val_loss: 0.9516 - val_categorical_accuracy: 0.6760\n",
      "Epoch 104/250\n",
      "219/219 [==============================] - 0s 2ms/step - loss: 0.9343 - categorical_accuracy: 0.6789 - val_loss: 0.9413 - val_categorical_accuracy: 0.6800\n",
      "Epoch 105/250\n",
      "219/219 [==============================] - 0s 2ms/step - loss: 0.9333 - categorical_accuracy: 0.6813 - val_loss: 0.9416 - val_categorical_accuracy: 0.6800\n",
      "Epoch 106/250\n",
      "219/219 [==============================] - 1s 2ms/step - loss: 0.9326 - categorical_accuracy: 0.6786 - val_loss: 0.9370 - val_categorical_accuracy: 0.6830\n",
      "Epoch 107/250\n",
      "219/219 [==============================] - 0s 2ms/step - loss: 0.9294 - categorical_accuracy: 0.6780 - val_loss: 0.9407 - val_categorical_accuracy: 0.6810\n",
      "Epoch 108/250\n",
      "219/219 [==============================] - 0s 2ms/step - loss: 0.9297 - categorical_accuracy: 0.6796 - val_loss: 0.9471 - val_categorical_accuracy: 0.6750\n",
      "Epoch 109/250\n",
      "219/219 [==============================] - 0s 2ms/step - loss: 0.9298 - categorical_accuracy: 0.6806 - val_loss: 0.9461 - val_categorical_accuracy: 0.6780\n",
      "Epoch 110/250\n",
      "219/219 [==============================] - 0s 2ms/step - loss: 0.9274 - categorical_accuracy: 0.6800 - val_loss: 0.9410 - val_categorical_accuracy: 0.6790\n",
      "Epoch 111/250\n",
      "219/219 [==============================] - 0s 2ms/step - loss: 0.9260 - categorical_accuracy: 0.6805 - val_loss: 0.9347 - val_categorical_accuracy: 0.6810\n",
      "Epoch 112/250\n",
      "219/219 [==============================] - 0s 2ms/step - loss: 0.9257 - categorical_accuracy: 0.6812 - val_loss: 0.9388 - val_categorical_accuracy: 0.6820\n",
      "Epoch 113/250\n",
      "219/219 [==============================] - 0s 2ms/step - loss: 0.9265 - categorical_accuracy: 0.6796 - val_loss: 0.9323 - val_categorical_accuracy: 0.6830\n",
      "Epoch 114/250\n",
      "219/219 [==============================] - 0s 2ms/step - loss: 0.9279 - categorical_accuracy: 0.6793 - val_loss: 0.9375 - val_categorical_accuracy: 0.6800\n",
      "Epoch 115/250\n",
      "219/219 [==============================] - 0s 2ms/step - loss: 0.9260 - categorical_accuracy: 0.6800 - val_loss: 0.9329 - val_categorical_accuracy: 0.6830\n",
      "Epoch 116/250\n",
      "219/219 [==============================] - 0s 2ms/step - loss: 0.9266 - categorical_accuracy: 0.6795 - val_loss: 0.9320 - val_categorical_accuracy: 0.6820\n",
      "Epoch 117/250\n",
      "219/219 [==============================] - 0s 2ms/step - loss: 0.9232 - categorical_accuracy: 0.6796 - val_loss: 0.9391 - val_categorical_accuracy: 0.6800\n",
      "Epoch 118/250\n",
      "219/219 [==============================] - 0s 2ms/step - loss: 0.9239 - categorical_accuracy: 0.6803 - val_loss: 0.9429 - val_categorical_accuracy: 0.6770\n",
      "Epoch 119/250\n",
      "219/219 [==============================] - 0s 2ms/step - loss: 0.9227 - categorical_accuracy: 0.6802 - val_loss: 0.9424 - val_categorical_accuracy: 0.6770\n",
      "Epoch 120/250\n",
      "219/219 [==============================] - 0s 2ms/step - loss: 0.9238 - categorical_accuracy: 0.6803 - val_loss: 0.9369 - val_categorical_accuracy: 0.6810\n",
      "Epoch 121/250\n",
      "219/219 [==============================] - 0s 2ms/step - loss: 0.9225 - categorical_accuracy: 0.6796 - val_loss: 0.9359 - val_categorical_accuracy: 0.6790\n",
      "Epoch 122/250\n",
      "219/219 [==============================] - 0s 2ms/step - loss: 0.9226 - categorical_accuracy: 0.6800 - val_loss: 0.9476 - val_categorical_accuracy: 0.6750\n",
      "Epoch 123/250\n",
      "219/219 [==============================] - 0s 2ms/step - loss: 0.9213 - categorical_accuracy: 0.6820 - val_loss: 0.9434 - val_categorical_accuracy: 0.6780\n",
      "Epoch 124/250\n",
      "219/219 [==============================] - 1s 2ms/step - loss: 0.9208 - categorical_accuracy: 0.6802 - val_loss: 0.9336 - val_categorical_accuracy: 0.6839\n",
      "Epoch 125/250\n",
      "219/219 [==============================] - 0s 2ms/step - loss: 0.9202 - categorical_accuracy: 0.6813 - val_loss: 0.9352 - val_categorical_accuracy: 0.6810\n",
      "Epoch 126/250\n",
      "219/219 [==============================] - 0s 2ms/step - loss: 0.9189 - categorical_accuracy: 0.6819 - val_loss: 0.9308 - val_categorical_accuracy: 0.6830\n",
      "Epoch 127/250\n",
      "219/219 [==============================] - 0s 2ms/step - loss: 0.9175 - categorical_accuracy: 0.6813 - val_loss: 0.9347 - val_categorical_accuracy: 0.6810\n",
      "Epoch 128/250\n",
      "219/219 [==============================] - 0s 2ms/step - loss: 0.9188 - categorical_accuracy: 0.6795 - val_loss: 0.9407 - val_categorical_accuracy: 0.6780\n",
      "Epoch 129/250\n",
      "219/219 [==============================] - 0s 2ms/step - loss: 0.9186 - categorical_accuracy: 0.6800 - val_loss: 0.9266 - val_categorical_accuracy: 0.6830\n",
      "Epoch 130/250\n",
      "219/219 [==============================] - 1s 3ms/step - loss: 0.9179 - categorical_accuracy: 0.6815 - val_loss: 0.9348 - val_categorical_accuracy: 0.6800\n",
      "Epoch 131/250\n",
      "219/219 [==============================] - 0s 2ms/step - loss: 0.9174 - categorical_accuracy: 0.6810 - val_loss: 0.9307 - val_categorical_accuracy: 0.6810\n",
      "Epoch 132/250\n",
      "219/219 [==============================] - 0s 2ms/step - loss: 0.9166 - categorical_accuracy: 0.6813 - val_loss: 0.9282 - val_categorical_accuracy: 0.6810\n",
      "Epoch 133/250\n",
      "219/219 [==============================] - 0s 2ms/step - loss: 0.9154 - categorical_accuracy: 0.6799 - val_loss: 0.9394 - val_categorical_accuracy: 0.6780\n",
      "Epoch 134/250\n",
      "219/219 [==============================] - 0s 2ms/step - loss: 0.9157 - categorical_accuracy: 0.6822 - val_loss: 0.9361 - val_categorical_accuracy: 0.6800\n",
      "Epoch 135/250\n",
      "219/219 [==============================] - 0s 2ms/step - loss: 0.9155 - categorical_accuracy: 0.6816 - val_loss: 0.9324 - val_categorical_accuracy: 0.6820\n",
      "Epoch 136/250\n",
      "219/219 [==============================] - 0s 2ms/step - loss: 0.9155 - categorical_accuracy: 0.6799 - val_loss: 0.9322 - val_categorical_accuracy: 0.6770\n",
      "Epoch 137/250\n",
      "219/219 [==============================] - 0s 2ms/step - loss: 0.9148 - categorical_accuracy: 0.6815 - val_loss: 0.9353 - val_categorical_accuracy: 0.6790\n",
      "Epoch 138/250\n",
      "219/219 [==============================] - 0s 2ms/step - loss: 0.9147 - categorical_accuracy: 0.6809 - val_loss: 0.9356 - val_categorical_accuracy: 0.6790\n",
      "Epoch 139/250\n",
      "219/219 [==============================] - 0s 2ms/step - loss: 0.9163 - categorical_accuracy: 0.6799 - val_loss: 0.9421 - val_categorical_accuracy: 0.6760\n",
      "Epoch 140/250\n",
      "219/219 [==============================] - 0s 2ms/step - loss: 0.9126 - categorical_accuracy: 0.6817 - val_loss: 0.9410 - val_categorical_accuracy: 0.6740\n",
      "Epoch 141/250\n",
      "219/219 [==============================] - 1s 3ms/step - loss: 0.9121 - categorical_accuracy: 0.6796 - val_loss: 0.9213 - val_categorical_accuracy: 0.6830\n",
      "Epoch 142/250\n",
      "219/219 [==============================] - 0s 2ms/step - loss: 0.9107 - categorical_accuracy: 0.6805 - val_loss: 0.9364 - val_categorical_accuracy: 0.6760\n",
      "Epoch 143/250\n",
      "219/219 [==============================] - 0s 2ms/step - loss: 0.9135 - categorical_accuracy: 0.6793 - val_loss: 0.9402 - val_categorical_accuracy: 0.6800\n",
      "Epoch 144/250\n",
      "219/219 [==============================] - 0s 2ms/step - loss: 0.9141 - categorical_accuracy: 0.6819 - val_loss: 0.9338 - val_categorical_accuracy: 0.6820\n",
      "Epoch 145/250\n",
      "219/219 [==============================] - 0s 2ms/step - loss: 0.9107 - categorical_accuracy: 0.6813 - val_loss: 0.9316 - val_categorical_accuracy: 0.6800\n",
      "Epoch 146/250\n",
      "219/219 [==============================] - 0s 2ms/step - loss: 0.9093 - categorical_accuracy: 0.6812 - val_loss: 0.9374 - val_categorical_accuracy: 0.6790\n",
      "Epoch 147/250\n"
     ]
    },
    {
     "name": "stdout",
     "output_type": "stream",
     "text": [
      "219/219 [==============================] - 0s 2ms/step - loss: 0.9102 - categorical_accuracy: 0.6822 - val_loss: 0.9358 - val_categorical_accuracy: 0.6810\n",
      "Epoch 148/250\n",
      "219/219 [==============================] - 0s 2ms/step - loss: 0.9088 - categorical_accuracy: 0.6795 - val_loss: 0.9382 - val_categorical_accuracy: 0.6790\n",
      "Epoch 149/250\n",
      "219/219 [==============================] - 0s 2ms/step - loss: 0.9100 - categorical_accuracy: 0.6809 - val_loss: 0.9360 - val_categorical_accuracy: 0.6790\n",
      "Epoch 150/250\n",
      "219/219 [==============================] - 0s 2ms/step - loss: 0.9103 - categorical_accuracy: 0.6815 - val_loss: 0.9372 - val_categorical_accuracy: 0.6800\n",
      "Epoch 151/250\n",
      "219/219 [==============================] - 1s 2ms/step - loss: 0.9087 - categorical_accuracy: 0.6827 - val_loss: 0.9256 - val_categorical_accuracy: 0.6839\n",
      "Epoch 152/250\n",
      "219/219 [==============================] - 1s 2ms/step - loss: 0.9076 - categorical_accuracy: 0.6815 - val_loss: 0.9280 - val_categorical_accuracy: 0.6830\n",
      "Epoch 153/250\n",
      "219/219 [==============================] - 1s 2ms/step - loss: 0.9076 - categorical_accuracy: 0.6810 - val_loss: 0.9284 - val_categorical_accuracy: 0.6820\n",
      "Epoch 154/250\n",
      "219/219 [==============================] - 1s 3ms/step - loss: 0.9043 - categorical_accuracy: 0.6832 - val_loss: 0.9401 - val_categorical_accuracy: 0.6750\n",
      "Epoch 155/250\n",
      "219/219 [==============================] - 0s 2ms/step - loss: 0.9069 - categorical_accuracy: 0.6807 - val_loss: 0.9406 - val_categorical_accuracy: 0.6770\n",
      "Epoch 156/250\n",
      "219/219 [==============================] - 0s 2ms/step - loss: 0.9083 - categorical_accuracy: 0.6819 - val_loss: 0.9186 - val_categorical_accuracy: 0.6849\n",
      "Epoch 157/250\n",
      "219/219 [==============================] - 0s 2ms/step - loss: 0.9076 - categorical_accuracy: 0.6830 - val_loss: 0.9338 - val_categorical_accuracy: 0.6810\n",
      "Epoch 158/250\n",
      "219/219 [==============================] - 0s 2ms/step - loss: 0.9074 - categorical_accuracy: 0.6803 - val_loss: 0.9391 - val_categorical_accuracy: 0.6770\n",
      "Epoch 159/250\n",
      "219/219 [==============================] - 0s 2ms/step - loss: 0.9045 - categorical_accuracy: 0.6795 - val_loss: 0.9309 - val_categorical_accuracy: 0.6830\n",
      "Epoch 160/250\n",
      "219/219 [==============================] - 0s 2ms/step - loss: 0.9052 - categorical_accuracy: 0.6805 - val_loss: 0.9352 - val_categorical_accuracy: 0.6760\n",
      "Epoch 161/250\n",
      "219/219 [==============================] - 0s 2ms/step - loss: 0.9050 - categorical_accuracy: 0.6813 - val_loss: 0.9321 - val_categorical_accuracy: 0.6849\n",
      "Epoch 162/250\n",
      "219/219 [==============================] - 0s 2ms/step - loss: 0.9035 - categorical_accuracy: 0.6819 - val_loss: 0.9404 - val_categorical_accuracy: 0.6770\n",
      "Epoch 163/250\n",
      "219/219 [==============================] - 0s 2ms/step - loss: 0.9032 - categorical_accuracy: 0.6832 - val_loss: 0.9458 - val_categorical_accuracy: 0.6760\n",
      "Epoch 164/250\n",
      "219/219 [==============================] - 0s 2ms/step - loss: 0.9046 - categorical_accuracy: 0.6819 - val_loss: 0.9321 - val_categorical_accuracy: 0.6800\n",
      "Epoch 165/250\n",
      "219/219 [==============================] - 0s 2ms/step - loss: 0.9030 - categorical_accuracy: 0.6805 - val_loss: 0.9310 - val_categorical_accuracy: 0.6810\n",
      "Epoch 166/250\n",
      "219/219 [==============================] - 0s 2ms/step - loss: 0.9031 - categorical_accuracy: 0.6827 - val_loss: 0.9388 - val_categorical_accuracy: 0.6790\n",
      "Epoch 167/250\n",
      "219/219 [==============================] - 0s 2ms/step - loss: 0.9044 - categorical_accuracy: 0.6823 - val_loss: 0.9331 - val_categorical_accuracy: 0.6780\n",
      "Epoch 168/250\n",
      "219/219 [==============================] - 0s 2ms/step - loss: 0.9024 - categorical_accuracy: 0.6832 - val_loss: 0.9463 - val_categorical_accuracy: 0.6760\n",
      "Epoch 169/250\n",
      "219/219 [==============================] - 0s 2ms/step - loss: 0.9041 - categorical_accuracy: 0.6803 - val_loss: 0.9285 - val_categorical_accuracy: 0.6810\n",
      "Epoch 170/250\n",
      "219/219 [==============================] - 1s 2ms/step - loss: 0.8991 - categorical_accuracy: 0.6820 - val_loss: 0.9379 - val_categorical_accuracy: 0.6770\n",
      "Epoch 171/250\n",
      "219/219 [==============================] - 0s 2ms/step - loss: 0.9014 - categorical_accuracy: 0.6830 - val_loss: 0.9324 - val_categorical_accuracy: 0.6810\n",
      "Epoch 172/250\n",
      "219/219 [==============================] - 0s 2ms/step - loss: 0.9028 - categorical_accuracy: 0.6819 - val_loss: 0.9307 - val_categorical_accuracy: 0.6790\n",
      "Epoch 173/250\n",
      "219/219 [==============================] - 0s 2ms/step - loss: 0.9013 - categorical_accuracy: 0.6816 - val_loss: 0.9465 - val_categorical_accuracy: 0.6750\n",
      "Epoch 174/250\n",
      "219/219 [==============================] - 1s 2ms/step - loss: 0.9001 - categorical_accuracy: 0.6819 - val_loss: 0.9345 - val_categorical_accuracy: 0.6790\n",
      "Epoch 175/250\n",
      "219/219 [==============================] - 0s 2ms/step - loss: 0.9001 - categorical_accuracy: 0.6840 - val_loss: 0.9284 - val_categorical_accuracy: 0.6839\n",
      "Epoch 176/250\n",
      "219/219 [==============================] - 0s 2ms/step - loss: 0.8984 - categorical_accuracy: 0.6842 - val_loss: 0.9253 - val_categorical_accuracy: 0.6800\n",
      "Epoch 177/250\n",
      "219/219 [==============================] - 0s 2ms/step - loss: 0.9004 - categorical_accuracy: 0.6827 - val_loss: 0.9313 - val_categorical_accuracy: 0.6800\n",
      "Epoch 178/250\n",
      "219/219 [==============================] - 0s 2ms/step - loss: 0.8987 - categorical_accuracy: 0.6847 - val_loss: 0.9300 - val_categorical_accuracy: 0.6800\n",
      "Epoch 179/250\n",
      "219/219 [==============================] - 0s 2ms/step - loss: 0.9002 - categorical_accuracy: 0.6836 - val_loss: 0.9389 - val_categorical_accuracy: 0.6770\n",
      "Epoch 180/250\n",
      "219/219 [==============================] - 1s 2ms/step - loss: 0.8986 - categorical_accuracy: 0.6842 - val_loss: 0.9294 - val_categorical_accuracy: 0.6770\n",
      "Epoch 181/250\n",
      "219/219 [==============================] - 1s 3ms/step - loss: 0.8972 - categorical_accuracy: 0.6847 - val_loss: 0.9279 - val_categorical_accuracy: 0.6790\n",
      "Epoch 182/250\n",
      "219/219 [==============================] - 1s 2ms/step - loss: 0.8976 - categorical_accuracy: 0.6847 - val_loss: 0.9227 - val_categorical_accuracy: 0.6830\n",
      "Epoch 183/250\n",
      "219/219 [==============================] - 1s 2ms/step - loss: 0.9014 - categorical_accuracy: 0.6827 - val_loss: 0.9263 - val_categorical_accuracy: 0.6820\n",
      "Epoch 184/250\n",
      "219/219 [==============================] - 1s 2ms/step - loss: 0.8961 - categorical_accuracy: 0.6837 - val_loss: 0.9268 - val_categorical_accuracy: 0.6820\n",
      "Epoch 185/250\n",
      "219/219 [==============================] - 0s 2ms/step - loss: 0.8957 - categorical_accuracy: 0.6847 - val_loss: 0.9305 - val_categorical_accuracy: 0.6790\n",
      "Epoch 186/250\n",
      "219/219 [==============================] - 0s 2ms/step - loss: 0.8957 - categorical_accuracy: 0.6849 - val_loss: 0.9329 - val_categorical_accuracy: 0.6770\n",
      "Epoch 187/250\n",
      "219/219 [==============================] - 1s 2ms/step - loss: 0.8972 - categorical_accuracy: 0.6835 - val_loss: 0.9427 - val_categorical_accuracy: 0.6790\n",
      "Epoch 188/250\n",
      "219/219 [==============================] - 1s 2ms/step - loss: 0.8973 - categorical_accuracy: 0.6825 - val_loss: 0.9209 - val_categorical_accuracy: 0.6839\n",
      "Epoch 189/250\n",
      "219/219 [==============================] - 1s 2ms/step - loss: 0.8955 - categorical_accuracy: 0.6850 - val_loss: 0.9240 - val_categorical_accuracy: 0.6859\n",
      "Epoch 190/250\n",
      "219/219 [==============================] - 0s 2ms/step - loss: 0.8930 - categorical_accuracy: 0.6835 - val_loss: 0.9264 - val_categorical_accuracy: 0.6790\n",
      "Epoch 191/250\n",
      "219/219 [==============================] - 1s 2ms/step - loss: 0.8942 - categorical_accuracy: 0.6822 - val_loss: 0.9217 - val_categorical_accuracy: 0.6800\n",
      "Epoch 192/250\n",
      "219/219 [==============================] - 1s 3ms/step - loss: 0.8956 - categorical_accuracy: 0.6843 - val_loss: 0.9222 - val_categorical_accuracy: 0.6780\n",
      "Epoch 193/250\n",
      "219/219 [==============================] - 1s 3ms/step - loss: 0.8941 - categorical_accuracy: 0.6832 - val_loss: 0.9193 - val_categorical_accuracy: 0.6830\n",
      "Epoch 194/250\n",
      "219/219 [==============================] - 1s 3ms/step - loss: 0.8941 - categorical_accuracy: 0.6843 - val_loss: 0.9229 - val_categorical_accuracy: 0.6780\n",
      "Epoch 195/250\n"
     ]
    },
    {
     "name": "stdout",
     "output_type": "stream",
     "text": [
      "219/219 [==============================] - 1s 2ms/step - loss: 0.8935 - categorical_accuracy: 0.6849 - val_loss: 0.9198 - val_categorical_accuracy: 0.6839\n",
      "Epoch 196/250\n",
      "219/219 [==============================] - 0s 2ms/step - loss: 0.8939 - categorical_accuracy: 0.6842 - val_loss: 0.9273 - val_categorical_accuracy: 0.6820\n",
      "Epoch 197/250\n",
      "219/219 [==============================] - 1s 2ms/step - loss: 0.8945 - categorical_accuracy: 0.6852 - val_loss: 0.9194 - val_categorical_accuracy: 0.6800\n",
      "Epoch 198/250\n",
      "219/219 [==============================] - 0s 2ms/step - loss: 0.8914 - categorical_accuracy: 0.6839 - val_loss: 0.9219 - val_categorical_accuracy: 0.6800\n",
      "Epoch 199/250\n",
      "219/219 [==============================] - 0s 2ms/step - loss: 0.8952 - categorical_accuracy: 0.6833 - val_loss: 0.9289 - val_categorical_accuracy: 0.6790\n",
      "Epoch 200/250\n",
      "219/219 [==============================] - 0s 2ms/step - loss: 0.8944 - categorical_accuracy: 0.6842 - val_loss: 0.9239 - val_categorical_accuracy: 0.6830\n",
      "Epoch 201/250\n",
      "219/219 [==============================] - 0s 2ms/step - loss: 0.8942 - categorical_accuracy: 0.6843 - val_loss: 0.9247 - val_categorical_accuracy: 0.6750\n",
      "Epoch 202/250\n",
      "219/219 [==============================] - 0s 2ms/step - loss: 0.8938 - categorical_accuracy: 0.6863 - val_loss: 0.9251 - val_categorical_accuracy: 0.6760\n",
      "Epoch 203/250\n",
      "219/219 [==============================] - 1s 3ms/step - loss: 0.8930 - categorical_accuracy: 0.6833 - val_loss: 0.9239 - val_categorical_accuracy: 0.6760\n",
      "Epoch 204/250\n",
      "219/219 [==============================] - 0s 2ms/step - loss: 0.8948 - categorical_accuracy: 0.6846 - val_loss: 0.9283 - val_categorical_accuracy: 0.6760\n",
      "Epoch 205/250\n",
      "219/219 [==============================] - 1s 2ms/step - loss: 0.8935 - categorical_accuracy: 0.6836 - val_loss: 0.9341 - val_categorical_accuracy: 0.6790\n",
      "Epoch 206/250\n",
      "219/219 [==============================] - 1s 2ms/step - loss: 0.8928 - categorical_accuracy: 0.6845 - val_loss: 0.9233 - val_categorical_accuracy: 0.6790\n",
      "Epoch 207/250\n",
      "219/219 [==============================] - 1s 3ms/step - loss: 0.8910 - categorical_accuracy: 0.6847 - val_loss: 0.9242 - val_categorical_accuracy: 0.6760\n",
      "Epoch 208/250\n",
      "219/219 [==============================] - 1s 3ms/step - loss: 0.8895 - categorical_accuracy: 0.6835 - val_loss: 0.9171 - val_categorical_accuracy: 0.6750\n",
      "Epoch 209/250\n",
      "219/219 [==============================] - 1s 3ms/step - loss: 0.8914 - categorical_accuracy: 0.6853 - val_loss: 0.9328 - val_categorical_accuracy: 0.6750\n",
      "Epoch 210/250\n",
      "219/219 [==============================] - 0s 2ms/step - loss: 0.8916 - categorical_accuracy: 0.6836 - val_loss: 0.9246 - val_categorical_accuracy: 0.6750\n",
      "Epoch 211/250\n",
      "219/219 [==============================] - 0s 2ms/step - loss: 0.8902 - categorical_accuracy: 0.6843 - val_loss: 0.9276 - val_categorical_accuracy: 0.6770\n",
      "Epoch 212/250\n",
      "219/219 [==============================] - 0s 2ms/step - loss: 0.8888 - categorical_accuracy: 0.6842 - val_loss: 0.9238 - val_categorical_accuracy: 0.6750\n",
      "Epoch 213/250\n",
      "219/219 [==============================] - 0s 2ms/step - loss: 0.8898 - categorical_accuracy: 0.6837 - val_loss: 0.9200 - val_categorical_accuracy: 0.6770\n",
      "Epoch 214/250\n",
      "219/219 [==============================] - 0s 2ms/step - loss: 0.8888 - categorical_accuracy: 0.6846 - val_loss: 0.9195 - val_categorical_accuracy: 0.6790\n",
      "Epoch 215/250\n",
      "219/219 [==============================] - 1s 3ms/step - loss: 0.8898 - categorical_accuracy: 0.6852 - val_loss: 0.9231 - val_categorical_accuracy: 0.6750\n",
      "Epoch 216/250\n",
      "219/219 [==============================] - 1s 3ms/step - loss: 0.8888 - categorical_accuracy: 0.6863 - val_loss: 0.9170 - val_categorical_accuracy: 0.6770\n",
      "Epoch 217/250\n",
      "219/219 [==============================] - 1s 3ms/step - loss: 0.8900 - categorical_accuracy: 0.6833 - val_loss: 0.9238 - val_categorical_accuracy: 0.6800\n",
      "Epoch 218/250\n",
      "219/219 [==============================] - 0s 2ms/step - loss: 0.8893 - categorical_accuracy: 0.6827 - val_loss: 0.9234 - val_categorical_accuracy: 0.6760\n",
      "Epoch 219/250\n",
      "219/219 [==============================] - 0s 2ms/step - loss: 0.8913 - categorical_accuracy: 0.6840 - val_loss: 0.9232 - val_categorical_accuracy: 0.6750\n",
      "Epoch 220/250\n",
      "219/219 [==============================] - 0s 2ms/step - loss: 0.8890 - categorical_accuracy: 0.6850 - val_loss: 0.9251 - val_categorical_accuracy: 0.6740\n",
      "Epoch 221/250\n",
      "219/219 [==============================] - 0s 2ms/step - loss: 0.8878 - categorical_accuracy: 0.6839 - val_loss: 0.9315 - val_categorical_accuracy: 0.6750\n",
      "Epoch 222/250\n",
      "219/219 [==============================] - 0s 2ms/step - loss: 0.8897 - categorical_accuracy: 0.6847 - val_loss: 0.9361 - val_categorical_accuracy: 0.6770\n",
      "Epoch 223/250\n",
      "219/219 [==============================] - 0s 2ms/step - loss: 0.8883 - categorical_accuracy: 0.6859 - val_loss: 0.9282 - val_categorical_accuracy: 0.6760\n",
      "Epoch 224/250\n",
      "219/219 [==============================] - 0s 2ms/step - loss: 0.8919 - categorical_accuracy: 0.6845 - val_loss: 0.9172 - val_categorical_accuracy: 0.6780\n",
      "Epoch 225/250\n",
      "219/219 [==============================] - 0s 2ms/step - loss: 0.8875 - categorical_accuracy: 0.6839 - val_loss: 0.9205 - val_categorical_accuracy: 0.6760\n",
      "Epoch 226/250\n",
      "219/219 [==============================] - 0s 2ms/step - loss: 0.8871 - categorical_accuracy: 0.6857 - val_loss: 0.9200 - val_categorical_accuracy: 0.6820\n",
      "Epoch 227/250\n",
      "219/219 [==============================] - 0s 2ms/step - loss: 0.8871 - categorical_accuracy: 0.6873 - val_loss: 0.9195 - val_categorical_accuracy: 0.6760\n",
      "Epoch 228/250\n",
      "219/219 [==============================] - 0s 2ms/step - loss: 0.8874 - categorical_accuracy: 0.6843 - val_loss: 0.9205 - val_categorical_accuracy: 0.6760\n",
      "Epoch 229/250\n",
      "219/219 [==============================] - 0s 2ms/step - loss: 0.8886 - categorical_accuracy: 0.6835 - val_loss: 0.9185 - val_categorical_accuracy: 0.6750\n",
      "Epoch 230/250\n",
      "219/219 [==============================] - 0s 2ms/step - loss: 0.8861 - categorical_accuracy: 0.6859 - val_loss: 0.9239 - val_categorical_accuracy: 0.6780\n",
      "Epoch 231/250\n",
      "219/219 [==============================] - 0s 2ms/step - loss: 0.8867 - categorical_accuracy: 0.6837 - val_loss: 0.9145 - val_categorical_accuracy: 0.6810\n",
      "Epoch 232/250\n",
      "219/219 [==============================] - 0s 2ms/step - loss: 0.8866 - categorical_accuracy: 0.6843 - val_loss: 0.9167 - val_categorical_accuracy: 0.6750\n",
      "Epoch 233/250\n",
      "219/219 [==============================] - 0s 2ms/step - loss: 0.8879 - categorical_accuracy: 0.6866 - val_loss: 0.9121 - val_categorical_accuracy: 0.6760\n",
      "Epoch 234/250\n",
      "219/219 [==============================] - 0s 2ms/step - loss: 0.8865 - categorical_accuracy: 0.6855 - val_loss: 0.9227 - val_categorical_accuracy: 0.6760\n",
      "Epoch 235/250\n",
      "219/219 [==============================] - 0s 2ms/step - loss: 0.8861 - categorical_accuracy: 0.6833 - val_loss: 0.9177 - val_categorical_accuracy: 0.6810\n",
      "Epoch 236/250\n",
      "219/219 [==============================] - 0s 2ms/step - loss: 0.8881 - categorical_accuracy: 0.6849 - val_loss: 0.9166 - val_categorical_accuracy: 0.6800\n",
      "Epoch 237/250\n",
      "219/219 [==============================] - 0s 2ms/step - loss: 0.8860 - categorical_accuracy: 0.6817 - val_loss: 0.9196 - val_categorical_accuracy: 0.6760\n",
      "Epoch 238/250\n",
      "219/219 [==============================] - 0s 2ms/step - loss: 0.8879 - categorical_accuracy: 0.6843 - val_loss: 0.9071 - val_categorical_accuracy: 0.6820\n",
      "Epoch 239/250\n",
      "219/219 [==============================] - 0s 2ms/step - loss: 0.8868 - categorical_accuracy: 0.6842 - val_loss: 0.9152 - val_categorical_accuracy: 0.6770\n",
      "Epoch 240/250\n",
      "219/219 [==============================] - 0s 2ms/step - loss: 0.8857 - categorical_accuracy: 0.6842 - val_loss: 0.9183 - val_categorical_accuracy: 0.6760\n",
      "Epoch 241/250\n",
      "219/219 [==============================] - 0s 2ms/step - loss: 0.8844 - categorical_accuracy: 0.6855 - val_loss: 0.9263 - val_categorical_accuracy: 0.6770\n",
      "Epoch 242/250\n",
      "219/219 [==============================] - 0s 2ms/step - loss: 0.8850 - categorical_accuracy: 0.6877 - val_loss: 0.9216 - val_categorical_accuracy: 0.6770\n",
      "Epoch 243/250\n"
     ]
    },
    {
     "name": "stdout",
     "output_type": "stream",
     "text": [
      "219/219 [==============================] - 0s 2ms/step - loss: 0.8864 - categorical_accuracy: 0.6846 - val_loss: 0.9155 - val_categorical_accuracy: 0.6780\n",
      "Epoch 244/250\n",
      "219/219 [==============================] - 0s 2ms/step - loss: 0.8843 - categorical_accuracy: 0.6857 - val_loss: 0.9112 - val_categorical_accuracy: 0.6800\n",
      "Epoch 245/250\n",
      "219/219 [==============================] - 0s 2ms/step - loss: 0.8829 - categorical_accuracy: 0.6853 - val_loss: 0.9273 - val_categorical_accuracy: 0.6750\n",
      "Epoch 246/250\n",
      "219/219 [==============================] - 0s 2ms/step - loss: 0.8827 - categorical_accuracy: 0.6849 - val_loss: 0.9167 - val_categorical_accuracy: 0.6760\n",
      "Epoch 247/250\n",
      "219/219 [==============================] - 0s 2ms/step - loss: 0.8836 - categorical_accuracy: 0.6856 - val_loss: 0.9204 - val_categorical_accuracy: 0.6750\n",
      "Epoch 248/250\n",
      "219/219 [==============================] - 0s 2ms/step - loss: 0.8829 - categorical_accuracy: 0.6845 - val_loss: 0.9145 - val_categorical_accuracy: 0.6770\n",
      "Epoch 249/250\n",
      "219/219 [==============================] - 1s 2ms/step - loss: 0.8815 - categorical_accuracy: 0.6859 - val_loss: 0.9123 - val_categorical_accuracy: 0.6820\n",
      "Epoch 250/250\n",
      "219/219 [==============================] - 0s 2ms/step - loss: 0.8814 - categorical_accuracy: 0.6842 - val_loss: 0.9140 - val_categorical_accuracy: 0.6780\n",
      "63/63 [==============================] - 0s 1ms/step - loss: 0.9214 - categorical_accuracy: 0.6688\n"
     ]
    }
   ],
   "source": [
    "checkpoint_filepath = 'tmp/checkpoint'\n",
    "model_checkpoint_callback = tf.keras.callbacks.ModelCheckpoint(\n",
    "    filepath=checkpoint_filepath,\n",
    "    save_weights_only=True,\n",
    "    monitor='val_categorical_accuracy',\n",
    "    mode='max',\n",
    "    save_best_only=True)\n",
    "model_train = model.fit(train_dataset, validation_data=valid_dataset, epochs=EPOCHS, callbacks=[model_checkpoint_callback])\n",
    "model.load_weights(checkpoint_filepath)\n",
    "model_evaluation = model.evaluate(test_dataset)\n",
    "\n",
    "best_valid_accu = max(model_train.history['val_categorical_accuracy'])\n",
    "best_epoch = model_train.history['val_categorical_accuracy'].index(best_valid_accu)\n",
    "best_train_accu = model_train.history['categorical_accuracy'][best_epoch]\n",
    "accuracy = model_evaluation[1]"
   ]
  },
  {
   "cell_type": "code",
   "execution_count": 38,
   "id": "7edeb5be",
   "metadata": {},
   "outputs": [
    {
     "name": "stdout",
     "output_type": "stream",
     "text": [
      "Dokładność modelu 0.6688279509544373\n",
      "63/63 [==============================] - 0s 1ms/step\n",
      "F1 score modelu = 0.5745788431537144\n"
     ]
    }
   ],
   "source": [
    "print('Dokładność modelu {}'.format(accuracy))\n",
    "from sklearn.metrics import f1_score\n",
    "images, labels = tuple(zip(*test_dataset))\n",
    "y_pred1 = model.predict(test_grey_re)\n",
    "y_pred = np.argmax(y_pred1, axis=1)\n",
    "y_pred = y_pred.reshape(len(test_labels_f1), 1)\n",
    "print('F1 score modelu = {}'.format(f1_score(test_labels_f1, y_pred , average=\"weighted\")))"
   ]
  },
  {
   "cell_type": "code",
   "execution_count": null,
   "id": "d591ebd2",
   "metadata": {},
   "outputs": [],
   "source": []
  }
 ],
 "metadata": {
  "kernelspec": {
   "display_name": "Python 3 (ipykernel)",
   "language": "python",
   "name": "python3"
  },
  "language_info": {
   "codemirror_mode": {
    "name": "ipython",
    "version": 3
   },
   "file_extension": ".py",
   "mimetype": "text/x-python",
   "name": "python",
   "nbconvert_exporter": "python",
   "pygments_lexer": "ipython3",
   "version": "3.10.4"
  }
 },
 "nbformat": 4,
 "nbformat_minor": 5
}
